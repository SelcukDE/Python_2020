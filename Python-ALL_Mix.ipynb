{
 "metadata": {
  "language_info": {
   "codemirror_mode": {
    "name": "ipython",
    "version": 3
   },
   "file_extension": ".py",
   "mimetype": "text/x-python",
   "name": "python",
   "nbconvert_exporter": "python",
   "pygments_lexer": "ipython3",
   "version": 3
  },
  "orig_nbformat": 2
 },
 "nbformat": 4,
 "nbformat_minor": 2,
 "cells": [
  {
   "cell_type": "code",
   "execution_count": null,
   "metadata": {},
   "outputs": [],
   "source": [
    "say = [22, 33, 55, 88, 2, 3, 9]\n",
    "\n",
    "\n",
    "cift = filter(lambda x : x%2 == 0, say)\n",
    "\n",
    "print(list(cift))"
   ]
  },
  {
   "cell_type": "code",
   "execution_count": null,
   "metadata": {},
   "outputs": [],
   "source": [
    "#daily-python-challenge\n",
    "# Question:\n",
    "# Define a “function” to calculate permutation of 2 numbers.\n",
    "# Reminder: P(n,r) = n!/(n-r)!\n",
    "# Clue: Defining a function that calculates factorial of given number, may be helpful.\n",
    "# Answer:\n",
    "\n",
    "def factorial(number):\n",
    "   fact = 1\n",
    "   for i in range(1,number+1):\n",
    "       fact *= i\n",
    "   return fact\n",
    "def permutation(n,r):\n",
    "   return int(factorial(n)/factorial(n-r))\n",
    "n = int(input(\"To calculate permutation please enter n : \"))\n",
    "r = int(input(\"To calculate permutation please enter r : \"))\n",
    "print(f\"Permutation of ({n},{r}) is {permutation(n,r)}\")"
   ]
  },
  {
   "cell_type": "code",
   "execution_count": null,
   "metadata": {},
   "outputs": [],
   "source": []
  }
 ]
}