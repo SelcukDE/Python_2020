{
 "metadata": {
  "language_info": {
   "codemirror_mode": {
    "name": "ipython",
    "version": 3
   },
   "file_extension": ".py",
   "mimetype": "text/x-python",
   "name": "python",
   "nbconvert_exporter": "python",
   "pygments_lexer": "ipython3",
   "version": 3
  },
  "orig_nbformat": 2,
  "kernelspec": {
   "name": "python_defaultSpec_1595527885932",
   "display_name": "Python 3.8.2 32-bit"
  }
 },
 "nbformat": 4,
 "nbformat_minor": 2,
 "cells": [
  {
   "cell_type": "code",
   "execution_count": null,
   "metadata": {},
   "outputs": [],
   "source": [
    "say = [22, 33, 55, 88, 2, 3, 9]\n",
    "\n",
    "\n",
    "cift = filter(lambda x : x%2 == 0, say)\n",
    "\n",
    "print(list(cift))"
   ]
  },
  {
   "cell_type": "code",
   "execution_count": null,
   "metadata": {},
   "outputs": [],
   "source": [
    "#daily-python-challenge\n",
    "# Question:\n",
    "# Define a “function” to calculate permutation of 2 numbers.\n",
    "# Reminder: P(n,r) = n!/(n-r)!\n",
    "# Clue: Defining a function that calculates factorial of given number, may be helpful.\n",
    "# Answer:\n",
    "\n",
    "def factorial(number):\n",
    "   fact = 1\n",
    "   for i in range(1,number+1):\n",
    "       fact *= i\n",
    "   return fact\n",
    "def permutation(n,r):\n",
    "   return int(factorial(n)/factorial(n-r))\n",
    "n = int(input(\"To calculate permutation please enter n : \"))\n",
    "r = int(input(\"To calculate permutation please enter r : \"))\n",
    "print(f\"Permutation of ({n},{r}) is {permutation(n,r)}\")"
   ]
  },
  {
   "cell_type": "code",
   "execution_count": null,
   "metadata": {},
   "outputs": [],
   "source": []
  },
  {
   "cell_type": "code",
   "execution_count": null,
   "metadata": {},
   "outputs": [],
   "source": [
    "earth/                          # Top-level package\n",
    "      __init__.py               # Initialize the earth package\n",
    "      asia/                     # Subpackage for file asia\n",
    "              __init__.py\n",
    "              japan.py\n",
    "              mongolia.py       # A module under a subpackage\n",
    "              pakistan.py\n",
    "              taiwan.py\n",
    "              ...\n",
    "      europe/                   # Subpackage for file europe\n",
    "              __init__.py\n",
    "              germany.py        # A module under a subpackage\n",
    "              england.py\n",
    "              turkey.py\n",
    "              kosovo.py\n",
    "              ...\n",
    "      america/                  # Subpackage for file america\n",
    "              __init__.py\n",
    "              canada.py\n",
    "              ustates.py\n",
    "              mexico.py\n",
    "              peru.py           # A module under a subpackage\n",
    "              ..."
   ]
  },
  {
   "cell_type": "code",
   "execution_count": null,
   "metadata": {},
   "outputs": [],
   "source": [
    "import earth.europe.kosovo  # importing with naming package, subpackage and module\n",
    "\n",
    "earth.europe.kosovo.a_function()  # we want to access a function defined in kosovo module"
   ]
  },
  {
   "cell_type": "code",
   "execution_count": null,
   "metadata": {},
   "outputs": [],
   "source": [
    "from earth import europe.kosovo  # importing with naming subpackage and module\n",
    "\n",
    "europe.kosovo.a_function()  # we want to access a function defined in kosovo module"
   ]
  },
  {
   "cell_type": "code",
   "execution_count": null,
   "metadata": {},
   "outputs": [],
   "source": [
    "from earth.europe import kosovo  # importing without naming package and subpackage\n",
    "\n",
    "kosovo.a_function()  # we want to access a function defined in kosovo module"
   ]
  },
  {
   "cell_type": "code",
   "execution_count": null,
   "metadata": {},
   "outputs": [],
   "source": [
    "from earth.europe.kosovo import a_function  # importing without any naming\n",
    "\n",
    "a_function()  # we use directly the function's name"
   ]
  },
  {
   "cell_type": "code",
   "execution_count": null,
   "metadata": {},
   "outputs": [],
   "source": [
    "pwd"
   ]
  },
  {
   "cell_type": "code",
   "execution_count": null,
   "metadata": {},
   "outputs": [],
   "source": [
    "from . import mongolia  # one dot means addressing to a current package/subpackage\n",
    " \n",
    "from .. import europe  # two dots mean addressing to a parent package/subpackage\n",
    " \n",
    "from ..europe import kosovo  # subpackage name comes immediately after two dots"
   ]
  },
  {
   "cell_type": "code",
   "execution_count": null,
   "metadata": {},
   "outputs": [],
   "source": [
    "\"\"\" this is my first module & script \"\"\"\n",
    "\n",
    "def my_func1(x):\n",
    "    return print(x**2)\n",
    "\n",
    "def my_func2(y):\n",
    "    return print(*y)\n",
    "\n",
    "from ..asia import japan  # we've added importing syntax using two dots\n",
    "japan.my_func1(6)         # and the name of parent subpackage (asia)\n",
    "\n",
    "if __name__ == '__main__':\n",
    "    print('hello') \n",
    "    my_func1(3)\n",
    "    my_func2(\"clarusway\")"
   ]
  },
  {
   "cell_type": "code",
   "execution_count": null,
   "metadata": {},
   "outputs": [],
   "source": [
    "import earth.europe.germany\n"
   ]
  },
  {
   "cell_type": "code",
   "execution_count": null,
   "metadata": {},
   "outputs": [],
   "source": [
    "pip --version"
   ]
  },
  {
   "cell_type": "code",
   "execution_count": null,
   "metadata": {},
   "outputs": [],
   "source": [
    "pip list"
   ]
  },
  {
   "cell_type": "code",
   "execution_count": null,
   "metadata": {},
   "outputs": [],
   "source": [
    "open()"
   ]
  },
  {
   "cell_type": "code",
   "execution_count": null,
   "metadata": {},
   "outputs": [],
   "source": [
    "open (file, mode='r', buffering=-1, encoding=None, errors=None, newline=None, closefd=True, opener=None)"
   ]
  },
  {
   "cell_type": "code",
   "execution_count": null,
   "metadata": {},
   "outputs": [],
   "source": [
    "my_file = open(\"first_file.txt\")  # this syntax opens a 'txt' file \n",
    "\n",
    "print(type(my_file))"
   ]
  },
  {
   "cell_type": "code",
   "execution_count": null,
   "metadata": {},
   "outputs": [],
   "source": [
    "my_file = open(\"__init__.py\")\n",
    "print(type(my_file))"
   ]
  },
  {
   "cell_type": "code",
   "execution_count": null,
   "metadata": {},
   "outputs": [],
   "source": [
    "my_file = open(\"first_file.txt\", encoding=\"utf-8\")\n",
    "# we've used 'utf8' encoding format just the same as the previous one"
   ]
  },
  {
   "cell_type": "code",
   "execution_count": null,
   "metadata": {},
   "outputs": [],
   "source": [
    "sea = open(\"fishes.txt\", 'r')   \n",
    "\n",
    "print(sea.read(33))  # displays the first 33 chars of the text\n",
    "print()\n",
    "print(sea.read(25))  # displays the next 25 chars of the text\n",
    "print()\n",
    "sea.seek(0)  # changes the stream (cursor) position to zero\n",
    "print(sea.read(33))  # displays the first 33 chars again\n",
    "print()\n",
    "print(sea.tell())  # returns the current stream (cursor) position\n",
    "\n",
    "sea.close()"
   ]
  },
  {
   "cell_type": "code",
   "execution_count": null,
   "metadata": {},
   "outputs": [],
   "source": [
    "file = open(\"C:\\SamsunPC_Depo\\IT_Clarusway_DEPO\\Python\\Python_Jupiter\", \"r\")"
   ]
  },
  {
   "cell_type": "code",
   "execution_count": null,
   "metadata": {},
   "outputs": [],
   "source": [
    "sea = open(\"fishes.txt\", 'r')   \n",
    "\n",
    "print(sea.read())  # displays the entire text content\n",
    "\n",
    "sea.close()  # be sure to close the file"
   ]
  },
  {
   "cell_type": "code",
   "execution_count": null,
   "metadata": {},
   "outputs": [],
   "source": [
    "sea = open(\"fishes.txt\", 'r')   \n",
    "\n",
    "print(sea.readline())  # displays the first line of the text\n",
    "print(sea.readline())  # displays the second line\n",
    "print(sea.readline())  # each time it goes to the new line\n",
    "\n",
    "sea.close()"
   ]
  },
  {
   "cell_type": "code",
   "execution_count": null,
   "metadata": {},
   "outputs": [],
   "source": [
    "sea = open(\"fishes.txt\", 'r')   \n",
    "\n",
    "print(sea.readline(13))\n",
    "print(sea.readline(13))\n",
    "print(sea.readline(13))\n",
    "print(sea.readline(13))\n",
    "\n",
    "sea.close()"
   ]
  },
  {
   "cell_type": "code",
   "execution_count": null,
   "metadata": {},
   "outputs": [],
   "source": [
    "sea = open(\"fishes.txt\", 'r')   \n",
    "\n",
    "print(sea.readlines())\n",
    "\n",
    "sea.close()"
   ]
  },
  {
   "cell_type": "code",
   "execution_count": null,
   "metadata": {},
   "outputs": [],
   "source": [
    "sea = open(\"fishes.txt\", 'r')   \n",
    "\n",
    "print(sea.readline())  # first line\n",
    "print(sea.readlines())  # the rest of the lines\n",
    "\n",
    "sea.close()"
   ]
  },
  {
   "cell_type": "code",
   "execution_count": null,
   "metadata": {},
   "outputs": [],
   "source": [
    "sea = open(\"fishes.txt\", 'r')   \n",
    "\n",
    "print(type(sea.readlines()))\n",
    "\n",
    "sea.close()"
   ]
  },
  {
   "cell_type": "code",
   "execution_count": null,
   "metadata": {
    "tags": []
   },
   "outputs": [],
   "source": [
    "def myfunc1():\n",
    "  x = \"John\"\n",
    "  def myfunc2():\n",
    "    nonlocal x\n",
    "    x = \"hello\"\n",
    "  myfunc2()\n",
    "  return x\n",
    "print(myfunc1())"
   ]
  },
  {
   "cell_type": "code",
   "execution_count": null,
   "metadata": {},
   "outputs": [],
   "source": [
    "# Henry-Mentor  5:26 PM\n",
    "def not_string(word):\n",
    "    return  word if word.startswith(\"not\") else \"not \" + word"
   ]
  },
  {
   "cell_type": "code",
   "execution_count": null,
   "metadata": {
    "tags": []
   },
   "outputs": [],
   "source": [
    "# Henry-Mentor  6:16 PM\n",
    "a = [1,2,3,4,4,4,5,6,7]\n",
    "b = max(a, key=a.count)\n",
    "c = a.count(b)\n",
    "print(b)\n",
    "print(c)"
   ]
  },
  {
   "cell_type": "code",
   "execution_count": null,
   "metadata": {},
   "outputs": [],
   "source": [
    "# E2257 - Eyüp  5:08 PM\n",
    "avg_student_1=0\n",
    "avg_students={}\n",
    "for i in students[\"Student-1\"].values():\n",
    "    avg_student_1 += i\n",
    "avg_students[\"avg_student_1\"]=avg_student_1/5\n",
    "avg_student_2=0\n",
    "for i in students[\"Student-2\"].values():\n",
    "    avg_student_2 += i\n",
    "avg_students[\"avg_student_2\"]=avg_student_2/5\n",
    "avg_student_3=0\n",
    "for i in students[\"Student-3\"].values():\n",
    "    avg_student_3 += i\n",
    "avg_students[\"avg_student_3\"]=avg_student_3/5\n",
    "avg_student_4=0\n",
    "for i in students[\"Student-4\"].values():\n",
    "    avg_student_4 += i\n",
    "avg_students[\"avg_student_4\"]=avg_student_4/5\n",
    "avg_student_5=0\n",
    "for i in students[\"Student-5\"].values():\n",
    "    avg_student_5 += i\n",
    "avg_students[\"avg_student_5\"]=avg_student_5/5\n",
    "print(max(avg_students.values()))\n",
    "print(min(avg_students.values()))"
   ]
  },
  {
   "cell_type": "code",
   "execution_count": null,
   "metadata": {},
   "outputs": [],
   "source": [
    "# Henry-Mentor  5:30 PM\n",
    "avarage_grades = {}\n",
    "for i in students:\n",
    "    grades = []\n",
    "    for j in students[i].values():\n",
    "        grades.append(j)\n",
    "    avarage_grades[i] = sum(grades)/5\n",
    "max_grade = max(avarage_grades, key=avarage_grades.get)\n",
    "min_grade = min(avarage_grades, key=avarage_grades.get)\n",
    "print(max_grade, avarage_grades[max_grade])\n",
    "print(min_grade, avarage_grades[min_grade])\n",
    "\n"
   ]
  },
  {
   "cell_type": "code",
   "execution_count": null,
   "metadata": {},
   "outputs": [],
   "source": [
    "\n",
    "# Henry-Mentor  5:45 PM\n",
    "# print(__name__)\n",
    "def single(x):\n",
    "    return x * 2\n",
    "print(single(10))\n",
    "if __name__ == \"__main__\":\n",
    "    print(\"Ben doubler altında çalışıyorum.\")\n",
    "    print(single(5))\n",
    "    print(\"Ben direk çalışırım.\")"
   ]
  },
  {
   "cell_type": "code",
   "execution_count": null,
   "metadata": {
    "tags": []
   },
   "outputs": [],
   "source": [
    "\n",
    "# E2060 - Fatih  8:03 PM\n",
    "word = input(\"enter a word: \").lower()\n",
    "vowels = [\"a\",\"e\",\"i\",\"o\",\"u\"]\n",
    "new=[]\n",
    "for i in word:\n",
    "    if i in vowels:\n",
    "        continue\n",
    "    else:\n",
    "        new.append(i)\n",
    "print(\"\".join(new))"
   ]
  },
  {
   "cell_type": "code",
   "execution_count": null,
   "metadata": {
    "tags": []
   },
   "outputs": [],
   "source": [
    "string = input('Enter a string :').lower()\n",
    "yeni_string = ''\n",
    "vowels = ['a', 'e', 'i', 'o', 'u']\n",
    "for char in string:\n",
    "    if char not in vowels:\n",
    "        yeni_string += char\n",
    "    else: continue\n",
    "print(yeni_string)"
   ]
  },
  {
   "cell_type": "code",
   "execution_count": null,
   "metadata": {
    "tags": []
   },
   "outputs": [],
   "source": [
    "sea = open(\"fishes.txt\", 'r')   \n",
    "\n",
    "print(sea.readline())  # displays the first line of the text\n",
    "print(sea.readline())  # displays the second line\n",
    "print(sea.readline())  # each time it goes to the new line\n",
    "\n",
    "sea.close()"
   ]
  },
  {
   "cell_type": "code",
   "execution_count": null,
   "metadata": {
    "tags": []
   },
   "outputs": [],
   "source": [
    "sea = open(\"fishes.txt\", 'r')   \n",
    "\n",
    "print(sea.readline(13))\n",
    "print(sea.readline(13))\n",
    "print(sea.readline(13))\n",
    "print(sea.readline(13))\n",
    "\n",
    "sea.close()"
   ]
  },
  {
   "cell_type": "code",
   "execution_count": null,
   "metadata": {
    "tags": []
   },
   "outputs": [],
   "source": [
    "sea = open(\"fishes.txt\", 'r')   \n",
    "\n",
    "print(sea.readlines())\n",
    "\n",
    "sea.close()"
   ]
  },
  {
   "cell_type": "code",
   "execution_count": null,
   "metadata": {
    "tags": []
   },
   "outputs": [],
   "source": [
    "sea = open(\"fishes.txt\", 'r')   \n",
    "\n",
    "print(sea.readline())  # first line\n",
    "print(sea.readlines())  # the rest of the lines\n",
    "\n",
    "sea.close()"
   ]
  },
  {
   "cell_type": "code",
   "execution_count": null,
   "metadata": {
    "tags": []
   },
   "outputs": [],
   "source": [
    "sea = open(\"fishes.txt\", 'r')   \n",
    "\n",
    "print(type(sea.readlines()))\n",
    "\n",
    "sea.close()"
   ]
  },
  {
   "cell_type": "code",
   "execution_count": null,
   "metadata": {
    "tags": []
   },
   "outputs": [],
   "source": [
    "sea = open(\"fishes.txt\", 'r')   \n",
    "\n",
    "for line in sea:\n",
    "    print(line)\n",
    "\n",
    "sea.close()"
   ]
  },
  {
   "cell_type": "code",
   "execution_count": null,
   "metadata": {
    "tags": []
   },
   "outputs": [],
   "source": [
    "sea = open(\"fishes.txt\", 'r')   \n",
    "\n",
    "for line in sea.readlines():\n",
    "    print(line)\n",
    "\n",
    "sea.close()"
   ]
  },
  {
   "cell_type": "code",
   "execution_count": null,
   "metadata": {
    "tags": []
   },
   "outputs": [],
   "source": [
    "with open(\"fishes.txt\", \"r\") as sea:\n",
    "    print(sea.read())  # needs indented code block"
   ]
  },
  {
   "cell_type": "code",
   "execution_count": null,
   "metadata": {},
   "outputs": [],
   "source": [
    "pwd"
   ]
  },
  {
   "cell_type": "code",
   "execution_count": null,
   "metadata": {
    "tags": []
   },
   "outputs": [],
   "source": [
    "with open(\"fishes.txt\", \"r\", encoding = \"utf-8\") as sea:\n",
    "    print(sea.read())\n",
    "    \n"
   ]
  },
  {
   "cell_type": "code",
   "execution_count": null,
   "metadata": {
    "tags": []
   },
   "outputs": [],
   "source": [
    "with open(\"dummy_file.txt\", 'w', encoding=\"utf-8\") as file:  \n",
    "# we create and open the file\n",
    "\n",
    "    file.write('This is the first line of my text file')  \n",
    "    # writes str data into file\n",
    "\n",
    "with open(\"dummy_file.txt\", 'r', encoding=\"utf-8\") as file:\n",
    "    print(file.read())  # reads the content of the 'dummy_file'"
   ]
  },
  {
   "cell_type": "code",
   "execution_count": null,
   "metadata": {},
   "outputs": [],
   "source": [
    "with open(\"dummy_file.txt\", 'w', encoding=\"utf-8\") as file:\n",
    "    file.write('This is the new line for my dummy_file')  \n",
    "    # we write new str data into it \n",
    "\n",
    "with open(\"dummy_file.txt\", 'r', encoding=\"utf-8\") as file:\n",
    "    print(file.read())  # reads the content of the 'dummy_file'\n"
   ]
  },
  {
   "cell_type": "code",
   "execution_count": null,
   "metadata": {},
   "outputs": [],
   "source": [
    "with open(\"dummy2.txt\", \"w\", encoding = \"utf-8\") as file:\n",
    "    file.write(\"Bu benim ilk satırım. Tarih: 23.Temmuz.2020 Perşembe \\n\")"
   ]
  },
  {
   "cell_type": "code",
   "execution_count": null,
   "metadata": {
    "tags": []
   },
   "outputs": [],
   "source": [
    "with open(\"dummy2.txt\", \"r\", encoding= \"utf-8\") as file:\n",
    "    print(file.read())"
   ]
  },
  {
   "cell_type": "code",
   "execution_count": null,
   "metadata": {
    "tags": []
   },
   "outputs": [],
   "source": [
    "with open(\"dummy2.txt\", \"a\", encoding = \"utf-8\") as file:\n",
    "    file.write(\"Bu benim 2. satırım.\")\n",
    "\n",
    "with open(\"dummy2.txt\", \"r\", encoding= \"utf-8\") as file:\n",
    "    print(file.read())"
   ]
  },
  {
   "cell_type": "code",
   "execution_count": null,
   "metadata": {
    "tags": []
   },
   "outputs": [],
   "source": [
    "with open(\"dummy_file.txt\", 'w', encoding=\"utf-8\") as file:\n",
    "    file.write('My first sentence')\n",
    "    file.write('My second sentence,')\n",
    "    file.write('My third sentence\\n')\n",
    "    file.write('My fourth sentence ')\n",
    "    file.write('My last sentence')\n",
    "\n",
    "with open(\"dummy_file.txt\", 'r', encoding=\"utf-8\") as file:\n",
    "    print(file.read())"
   ]
  },
  {
   "cell_type": "code",
   "execution_count": null,
   "metadata": {
    "tags": []
   },
   "outputs": [],
   "source": [
    "fruits = ['Banana', 'Orange', 'Apple', 'Strawberry', 'Cherry']\n",
    "\n",
    "with open(\"fruits.txt\", 'w', encoding=\"utf-8\") as file:\n",
    "    for basket in fruits:\n",
    "        file.write(basket + '\\n')  # adds a newline character to each string\n",
    "   \n",
    "with open(\"fruits.txt\", 'r', encoding=\"utf-8\") as file:\n",
    "    print(file.read())\n",
    "\n",
    "with open(\"fruits.txt\", 'r', encoding=\"utf-8\") as file:\n",
    "    print(file.readlines())  # reads and displays entire lines in a list"
   ]
  },
  {
   "cell_type": "code",
   "execution_count": null,
   "metadata": {
    "tags": []
   },
   "outputs": [],
   "source": [
    "fruits = ['Banana\\n', 'Orange\\n', 'Apple\\n', 'Strawberry\\n', 'Cherry\\n']\n",
    "\n",
    "with open(\"fruits.txt\", 'w', encoding=\"utf-8\") as file:\n",
    "    file.writelines(fruits)  # takes an iterator for writing\n",
    "   \n",
    "with open(\"fruits.txt\", 'r', encoding=\"utf-8\") as file:\n",
    "    print(file.read())\n",
    "\n",
    "with open(\"fruits.txt\", 'r', encoding=\"utf-8\") as file:\n",
    "    print(file.readlines())"
   ]
  },
  {
   "cell_type": "code",
   "execution_count": null,
   "metadata": {
    "tags": []
   },
   "outputs": [],
   "source": [
    "colors = ['red', 'green', 'yellow', 'white', 'black']\n",
    "\n",
    "with open(\"new_file.txt\", 'w', encoding=\"utf-8\") as file:\n",
    "    for album in colors:\n",
    "        file.write(album + \"\\n\")  # adds a newline character\n",
    "\n",
    "with open(\"new_file.txt\", 'r', encoding = \"utf-8\") as file:\n",
    "    print(file.read())\n",
    "\n",
    "with open(\"new_file.txt\", \"r\", encoding = \"utf-8\") as file:\n",
    "    print(file.readline())\n",
    "    \n",
    "with open(\"new_file.txt\", \"r\", encoding = \"utf-8\") as file:\n",
    "    print(file.readlines())\n",
    "\n",
    "with open(\"new_file.txt\", \"r\", encoding = \"utf-8\") as file:\n",
    "    print(file.readlines(), end = \"\")"
   ]
  },
  {
   "cell_type": "code",
   "execution_count": null,
   "metadata": {
    "tags": []
   },
   "outputs": [],
   "source": [
    "fruits = ['Banana\\n', 'Orange\\n', 'Apple\\n', 'Strawberry\\n', 'Cherry\\n']\n",
    "\n",
    "with open(\"fruits.txt\", 'w', encoding=\"utf-8\") as file:\n",
    "    file.writelines(fruits)  # creates a file containing the elements of the list\n",
    "\n",
    "with open(\"fruits.txt\", 'r', encoding=\"utf-8\") as file:\n",
    "    print(file.read())  # reads the content of the file\n",
    "\n",
    "with open(\"fruits.txt\", 'a', encoding=\"utf-8\") as file:\n",
    "    file.write('Melon\\n')  # adds \"Melon\" to the end of the existing file\n",
    "   \n",
    "with open(\"fruits.txt\", 'r', encoding=\"utf-8\") as file:\n",
    "    print(file.read())  # reads the last content of the file\n",
    "\n",
    "with open(\"fruits.txt\", 'r', encoding=\"utf-8\") as file:\n",
    "    print(file.readlines())"
   ]
  },
  {
   "cell_type": "code",
   "execution_count": null,
   "metadata": {
    "tags": []
   },
   "outputs": [],
   "source": [
    "flowers2 = [\"Jasmine\", \"Rose\", \"Lily\", \"Daisy\", \"Tulip\"]\n",
    "\n",
    "with open(\"flowers2.txt\", 'w', encoding=\"utf-8\") as file:\n",
    "    for sepet in flowers2:\n",
    "        file.write(sepet + \"\\n\\n\")  # adds a newline character\n",
    "\n",
    "with open(\"flowers2.txt\", 'r', encoding = \"utf-8\") as file:\n",
    "    print(file.read())\n",
    "\n",
    "with open(\"flowers2.txt\", \"r\", encoding = \"utf-8\") as file:\n",
    "    print(file.readlines())"
   ]
  },
  {
   "cell_type": "code",
   "execution_count": null,
   "metadata": {},
   "outputs": [],
   "source": [
    "with open(\"fruits.csv\", 'r', encoding=\"utf-8\") as file:\n",
    "    print(file.read())"
   ]
  },
  {
   "cell_type": "code",
   "execution_count": null,
   "metadata": {},
   "outputs": [],
   "source": [
    "fruits3 = ['Banana\\n', 'Orange\\n', 'Apple\\n', 'Strawberry\\n', 'Cherry\\n']\n",
    "\n",
    "with open(\"fruits3.txt\", 'w', encoding=\"utf-8\") as file:\n",
    "    file.writelines(fruits3)  # creates a file containing the elements of the list"
   ]
  },
  {
   "cell_type": "code",
   "execution_count": null,
   "metadata": {
    "tags": []
   },
   "outputs": [],
   "source": [
    "with open(\"fruits3.txt\", \"r\", encoding = \"utf-8\") as file:\n",
    "    print(file.readlines())\n"
   ]
  },
  {
   "cell_type": "code",
   "execution_count": null,
   "metadata": {
    "tags": []
   },
   "outputs": [],
   "source": [
    "\n",
    "# E2037 - Can  2 minutes ago\n",
    "flowers4 = [ \"Jasmine\", \"Rose\", \"Lily\", \"Daisy\", \"Tulip\"]\n",
    "flowers4 = [i+\"\\n\" for i in flowers4]\n",
    "with open(\"flowers4.txt\", \"w\", encoding = \"utf-8\") as d:\n",
    "    d.writelines(flowers4)\n",
    "with open(\"flowers4.txt\", encoding = \"utf-8\") as d:\n",
    "    print(d.read())"
   ]
  },
  {
   "cell_type": "markdown",
   "metadata": {},
   "source": [
    "# İSTİKLAL"
   ]
  },
  {
   "cell_type": "code",
   "execution_count": null,
   "metadata": {
    "tags": []
   },
   "outputs": [],
   "source": [
    "with open(\"istiklal.txt\", \"r\", encoding =\"utf-8\") as file:\n",
    "    print(file.read())\n",
    "\n",
    "    "
   ]
  },
  {
   "cell_type": "code",
   "execution_count": null,
   "metadata": {},
   "outputs": [],
   "source": [
    "with open(\"istiklal.txt\", \"r\", encoding =\"utf-8\") as file:\n",
    "    ist = file.readlines()"
   ]
  },
  {
   "cell_type": "code",
   "execution_count": null,
   "metadata": {},
   "outputs": [],
   "source": []
  }
 ]
}