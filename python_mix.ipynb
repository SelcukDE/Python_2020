{
 "cells": [
  {
   "cell_type": "code",
   "execution_count": 6,
   "metadata": {
    "tags": []
   },
   "outputs": [
    {
     "output_type": "stream",
     "name": "stdout",
     "text": "[105, 126, 147, 168, 189, 210, 231, 252, 273, 294, 315, 336, 357, 378, 399, 420, 441, 462, 483]\n"
    }
   ],
   "source": [
    "abc = []\n",
    "for i in range(100, 501):\n",
    "    if i % 7 == 0 and i % 3 == 0:\n",
    "        abc.append(i)\n",
    "print(abc)\n",
    "\n"
   ]
  },
  {
   "cell_type": "code",
   "execution_count": 7,
   "metadata": {
    "tags": []
   },
   "outputs": [
    {
     "output_type": "stream",
     "name": "stdout",
     "text": "Factorial of 55 is 12696403353658275925965100847566516959580321051449436762275840000000000000\n"
    }
   ],
   "source": [
    "#daily-python-challenge\n",
    "# Q:Write a code to calculate factorial of a number entered by user.\n",
    "# A:\n",
    "number = int(input(\"Please enter a number : \"))\n",
    "factorial = 1\n",
    "for i in range(1,number+1):\n",
    "    factorial *= i\n",
    "print(f\"Factorial of {number} is {factorial}\")"
   ]
  },
  {
   "cell_type": "code",
   "execution_count": 8,
   "metadata": {
    "tags": []
   },
   "outputs": [
    {
     "output_type": "stream",
     "name": "stdout",
     "text": "Letters 0\nDigits 4\n"
    },
    {
     "output_type": "error",
     "ename": "NameError",
     "evalue": "name 'edited' is not defined",
     "traceback": [
      "\u001b[1;31m---------------------------------------------------------------------------\u001b[0m",
      "\u001b[1;31mNameError\u001b[0m                                 Traceback (most recent call last)",
      "\u001b[1;32m<ipython-input-8-808414df9dce>\u001b[0m in \u001b[0;36m<module>\u001b[1;34m\u001b[0m\n\u001b[0;32m      9\u001b[0m         \u001b[1;32mcontinue\u001b[0m\u001b[1;33m\u001b[0m\u001b[1;33m\u001b[0m\u001b[0m\n\u001b[0;32m     10\u001b[0m \u001b[0mprint\u001b[0m\u001b[1;33m(\u001b[0m\u001b[1;34m\"Letters\"\u001b[0m\u001b[1;33m,\u001b[0m \u001b[0my\u001b[0m\u001b[1;33m)\u001b[0m\u001b[1;33m\u001b[0m\u001b[1;33m\u001b[0m\u001b[0m\n\u001b[1;32m---> 11\u001b[1;33m \u001b[0mprint\u001b[0m\u001b[1;33m(\u001b[0m\u001b[1;34m\"Digits\"\u001b[0m\u001b[1;33m,\u001b[0m \u001b[0mx\u001b[0m\u001b[1;33m)\u001b[0m \u001b[1;33m(\u001b[0m\u001b[0medited\u001b[0m\u001b[1;33m)\u001b[0m\u001b[1;33m\u001b[0m\u001b[1;33m\u001b[0m\u001b[0m\n\u001b[0m",
      "\u001b[1;31mNameError\u001b[0m: name 'edited' is not defined"
     ]
    }
   ],
   "source": [
    "a = input(\"Ente a statetment:\")\n",
    "x=y=0\n",
    "for i in a:\n",
    "    if i.isdigit() and i != \" \" :\n",
    "        x=x+1\n",
    "    elif i.isalpha() and i != \" \":\n",
    "        y=y+1\n",
    "    else:\n",
    "        continue\n",
    "print(\"Letters\", y)\n",
    "print(\"Digits\", x) (edited)"
   ]
  },
  {
   "cell_type": "code",
   "execution_count": 9,
   "metadata": {
    "tags": []
   },
   "outputs": [
    {
     "output_type": "stream",
     "name": "stdout",
     "text": "0 3\n"
    }
   ],
   "source": [
    "sent=input(\"enter sentence: \")\n",
    "letters=0\n",
    "digits=0\n",
    "for i in sent:\n",
    "    if i.isdigit():\n",
    "        digits+=1\n",
    "    else:\n",
    "        letters+=1\n",
    "print(letters, digits)"
   ]
  },
  {
   "cell_type": "code",
   "execution_count": 11,
   "metadata": {
    "tags": []
   },
   "outputs": [
    {
     "output_type": "stream",
     "name": "stdout",
     "text": "18 digits, 0 strings\n"
    }
   ],
   "source": [
    "string = input('Enter a statement: ')\n",
    "digits = []\n",
    "strings = []\n",
    "for i in string:\n",
    "    if i.isdigit():\n",
    "        digits.append(i)\n",
    "    if i.isalpha():\n",
    "        strings.append(i)\n",
    "digits_no = len(digits)\n",
    "strings_no = len(strings)\n",
    "print(f'{digits_no} digits, {strings_no} strings')"
   ]
  },
  {
   "cell_type": "code",
   "execution_count": 12,
   "metadata": {},
   "outputs": [
    {
     "output_type": "error",
     "ename": "IndentationError",
     "evalue": "expected an indented block (<ipython-input-12-c5b2a63713d1>, line 2)",
     "traceback": [
      "\u001b[1;36m  File \u001b[1;32m\"<ipython-input-12-c5b2a63713d1>\"\u001b[1;36m, line \u001b[1;32m2\u001b[0m\n\u001b[1;33m    else: #number is odd -- insert code to execute hereif (num % 2 == 0): #number is even -- insert code to execute here\u001b[0m\n\u001b[1;37m    ^\u001b[0m\n\u001b[1;31mIndentationError\u001b[0m\u001b[1;31m:\u001b[0m expected an indented block\n"
     ]
    }
   ],
   "source": [
    "if (num % 2 == 0): #number is even -- insert code to execute here\n",
    "else: #number is odd -- insert code to execute hereif (num % 2 == 0): #number is even -- insert code to execute here\n",
    "else: #number is odd -- insert code to execute here"
   ]
  },
  {
   "cell_type": "code",
   "execution_count": 13,
   "metadata": {
    "tags": []
   },
   "outputs": [
    {
     "output_type": "stream",
     "name": "stdout",
     "text": "Presss 'q' for quit.\n345 is not a Amstrong Number.\n3456789 is not a Amstrong Number.\n34568909876544567898765 is not a Amstrong Number.\nDo not use any entries other than numeric values\nDo not use any entries other than numeric values\nSee you...\n"
    }
   ],
   "source": [
    "print(\"Presss 'q' for quit.\")\n",
    "while True:\n",
    "    number = input(\"Enter a positive Number:\").strip().lower() #1234\n",
    "    numberofdigits = len(number) #4\n",
    "    summ = 0\n",
    "    if number == \"q\":\n",
    "        print(\"See you...\")\n",
    "        break\n",
    "    else:\n",
    "        if number.isnumeric():\n",
    "            for i in range(numberofdigits):\n",
    "                summ += int(number[i]) ** numberofdigits\n",
    "            if summ == int(number):\n",
    "                print(number, \"is a Amstrong Number.\")\n",
    "            else:\n",
    "                print(number, \"is not a Amstrong Number.\")\n",
    "        elif number.count(\".\") == 1 and number.replace(\".\", \"1\").isnumeric() or number.count(\",\") == 1 and number.replace(\",\", \"1\").isnumeric():\n",
    "            print(\"Please enter a integer number.\")\n",
    "        elif number.count(\"-\") == 1 and number.index(\"-\") == 0 and number.replace(\"-\", \"1\").isnumeric():\n",
    "            print(\"Please enter a positive number\")\n",
    "        else:\n",
    "            print(\"Do not use any entries other than numeric values\")"
   ]
  },
  {
   "cell_type": "code",
   "execution_count": 14,
   "metadata": {
    "tags": []
   },
   "outputs": [
    {
     "output_type": "stream",
     "name": "stdout",
     "text": "digit : 6 alpha : 0\n"
    }
   ],
   "source": [
    "txt=input()\n",
    "a=0\n",
    "b=0\n",
    "for i in txt:\n",
    "    if i.isdigit():\n",
    "        a+=1\n",
    "    elif i.isalpha():\n",
    "        b+=1\n",
    "print(\"digit : {} alpha : {}\".format(a,b))"
   ]
  },
  {
   "cell_type": "code",
   "execution_count": 15,
   "metadata": {
    "tags": []
   },
   "outputs": [
    {
     "output_type": "stream",
     "name": "stdout",
     "text": "['7', '2', '4']\n['d', 'a', 'y', 's', 'h', 'o', 'u', 'r', 's']\n"
    }
   ],
   "source": [
    "a = \"7 days 24 hours\"\n",
    "b = []\n",
    "c = []\n",
    "for i in a:\n",
    "    if i.isdigit():\n",
    "        b.append(i)\n",
    "    elif i.isalpha():\n",
    "        c.append(i)\n",
    "print(b)\n",
    "print(c)"
   ]
  },
  {
   "cell_type": "code",
   "execution_count": 18,
   "metadata": {
    "tags": []
   },
   "outputs": [
    {
     "output_type": "stream",
     "name": "stdout",
     "text": "Sentence has 6 letters and 0 digits\n"
    }
   ],
   "source": [
    "word = input(\"Please enter sentence: \")\n",
    "letters = sum(1 for i in word if i.isalpha())\n",
    "digits = sum(1 for i in word if i.isdigit())\n",
    "print(\"Sentence has\", letters, \"letters and\", digits, \"digits\")"
   ]
  },
  {
   "cell_type": "code",
   "execution_count": 20,
   "metadata": {
    "tags": []
   },
   "outputs": [
    {
     "output_type": "stream",
     "name": "stdout",
     "text": "letters : 9 digits : 0\n"
    }
   ],
   "source": [
    "y=input(\"\")\n",
    "letters=0\n",
    "digits=0\n",
    "for i in y:\n",
    "    if i.isdigit():\n",
    "        digits+=1\n",
    "    else:\n",
    "        letters+=1\n",
    "print(\"letters :\",letters,\"digits :\", digits)"
   ]
  },
  {
   "cell_type": "code",
   "execution_count": 21,
   "metadata": {
    "tags": []
   },
   "outputs": [
    {
     "output_type": "stream",
     "name": "stdout",
     "text": "kac_rak : 0\nkac_har : 8\n"
    }
   ],
   "source": [
    "giris = str(input(\"Enter a sentence :\"))\n",
    "kac_har = 0\n",
    "kac_rak = 0\n",
    "for i in giris:\n",
    "    if i.isdigit():\n",
    "        kac_rak +=1\n",
    "    else:kac_har +=1\n",
    "print(\"kac_rak :\", kac_rak)\n",
    "print(\"kac_har :\", kac_har)"
   ]
  },
  {
   "cell_type": "code",
   "execution_count": 22,
   "metadata": {
    "tags": []
   },
   "outputs": [
    {
     "output_type": "stream",
     "name": "stdout",
     "text": "Letter  7\nNumber 0\n"
    }
   ],
   "source": [
    "word = input('Enter a number').replace(\" \",\"\")\n",
    "let = 0\n",
    "nmb = 0\n",
    "for i in word:\n",
    "    if i.isdigit():\n",
    "        nmb += 1\n",
    "    else:\n",
    "        let += 1\n",
    "print('Letter ',let)\n",
    "print('Number',nmb)"
   ]
  },
  {
   "cell_type": "code",
   "execution_count": 23,
   "metadata": {
    "tags": []
   },
   "outputs": [
    {
     "output_type": "stream",
     "name": "stdout",
     "text": "7\n14\n"
    }
   ],
   "source": [
    "digits=[]\n",
    "letters=[]\n",
    "sentence = input('Please enter a sentence:')\n",
    "for i in sentence:\n",
    "  if i.isdigit():\n",
    "    digits.append(i)\n",
    "  elif i.isalpha():\n",
    "    letters.append(i)\n",
    "print(len(digits))\n",
    "print(len(letters))"
   ]
  },
  {
   "cell_type": "code",
   "execution_count": 24,
   "metadata": {
    "tags": []
   },
   "outputs": [
    {
     "output_type": "stream",
     "name": "stdout",
     "text": "Letters 13\nDigits 8\n"
    }
   ],
   "source": [
    "compl = input('Give me something: ')\n",
    "letterss = set('qazwsxedcrfvtgbyhnujmıklöçoşpiğü')\n",
    "digitss = set('1234567890')\n",
    "Letters = 0\n",
    "Digits = 0\n",
    "Unimport = 0\n",
    "for i in compl:\n",
    "    if i in letterss:\n",
    "        Letters += 1\n",
    "    elif i in digitss:\n",
    "        Digits += 1\n",
    "    else:\n",
    "        Unimport += 1\n",
    "print('Letters', Letters)\n",
    "print('Digits', Digits)"
   ]
  },
  {
   "cell_type": "code",
   "execution_count": 25,
   "metadata": {
    "tags": []
   },
   "outputs": [
    {
     "output_type": "stream",
     "name": "stdout",
     "text": "Letters 9\nDigits 0\n"
    }
   ],
   "source": [
    "a = input(\"Write sth:\")\n",
    "a = a.replace(\" \", \"\")\n",
    "dig = 0\n",
    "let = 0\n",
    "for i in a:\n",
    "    if i.isdigit():\n",
    "        dig += 1\n",
    "    else:\n",
    "        let += 1\n",
    "print(\"Letters\", let)\n",
    "print(\"Digits\", dig)"
   ]
  },
  {
   "cell_type": "code",
   "execution_count": 26,
   "metadata": {
    "tags": []
   },
   "outputs": [
    {
     "output_type": "stream",
     "name": "stdout",
     "text": "9\n0\n"
    }
   ],
   "source": [
    "word = input(\"enter a input: \")\n",
    "7\n",
    "letter = list()\n",
    "digit = list()\n",
    "for i in word:\n",
    "    if i.isdigit():\n",
    "        digit.append(i)\n",
    "    elif i.isalpha():\n",
    "        letter.append(i)\n",
    "print(len(letter))\n",
    "print(len(digit))"
   ]
  },
  {
   "cell_type": "code",
   "execution_count": 27,
   "metadata": {
    "tags": []
   },
   "outputs": [
    {
     "output_type": "stream",
     "name": "stdout",
     "text": "Letters 8\nDigits 0\n"
    }
   ],
   "source": [
    "a = input(\"Ente a statetment:\")\n",
    "x=y=0\n",
    "for c in a:\n",
    "    if c.isdigit():\n",
    "        x=x+1\n",
    "    elif c.isalpha():\n",
    "        y=y+1\n",
    "    else:\n",
    "        continue\n",
    "print(\"Letters\", y)\n",
    "print(\"Digits\", x)"
   ]
  },
  {
   "cell_type": "code",
   "execution_count": 28,
   "metadata": {
    "tags": []
   },
   "outputs": [
    {
     "output_type": "stream",
     "name": "stdout",
     "text": "105\n126\n147\n168\n189\n210\n231\n252\n273\n294\n315\n336\n357\n378\n399\n420\n441\n462\n483\n"
    }
   ],
   "source": [
    "for i in range (100,501):\n",
    "    if i%21==0:\n",
    "        print(i)"
   ]
  },
  {
   "cell_type": "code",
   "execution_count": 29,
   "metadata": {
    "tags": []
   },
   "outputs": [
    {
     "output_type": "stream",
     "name": "stdout",
     "text": "105  126  147  168  189  210  231  252  273  294  315  336  357  378  399  420  441  462  483"
    }
   ],
   "source": [
    "for i in range(100,501):\n",
    "    if i % 7 == 0 and i % 3 == 0:\n",
    "        print(i, end = \"  \")"
   ]
  },
  {
   "cell_type": "code",
   "execution_count": 31,
   "metadata": {
    "tags": []
   },
   "outputs": [
    {
     "output_type": "stream",
     "name": "stdout",
     "text": "[105, 126, 147, 168, 189, 210, 231, 252, 273, 294, 315, 336, 357, 378, 399, 420, 441, 462, 483]\n"
    }
   ],
   "source": [
    "abc = []\n",
    "for i in range(100, 501):\n",
    "    if i % 7 == 0 and i % 3 == 0:\n",
    "        abc.append(i)\n",
    "print(abc)"
   ]
  },
  {
   "cell_type": "code",
   "execution_count": 32,
   "metadata": {
    "tags": []
   },
   "outputs": [
    {
     "output_type": "stream",
     "name": "stdout",
     "text": "[105, 126, 147, 168, 189, 210, 231, 252, 273, 294, 315, 336, 357, 378, 399, 420, 441, 462, 483]\n"
    }
   ],
   "source": [
    "char = [i for i in range(100,501) if not i%7 and not i%3]\n",
    "print(char)"
   ]
  },
  {
   "cell_type": "code",
   "execution_count": 33,
   "metadata": {
    "tags": []
   },
   "outputs": [
    {
     "output_type": "stream",
     "name": "stdout",
     "text": "105\n126\n147\n168\n189\n210\n231\n252\n273\n294\n315\n336\n357\n378\n399\n420\n441\n462\n483\n"
    }
   ],
   "source": [
    "for i in range(100, 501):\n",
    "    if not (i % 7) and not (i % 3):\n",
    "        print(i)"
   ]
  },
  {
   "cell_type": "code",
   "execution_count": 34,
   "metadata": {
    "tags": []
   },
   "outputs": [
    {
     "output_type": "stream",
     "name": "stdout",
     "text": "[105, 126, 147, 168, 189, 210, 231, 252, 273, 294, 315, 336, 357, 378, 399, 420, 441, 462, 483]\n"
    }
   ],
   "source": [
    "print([i for i in range(100,501) if i % 7 == 0 and i % 3 == 0])"
   ]
  },
  {
   "cell_type": "code",
   "execution_count": 35,
   "metadata": {
    "tags": []
   },
   "outputs": [
    {
     "output_type": "stream",
     "name": "stdout",
     "text": "[105, 126, 147, 168, 189, 210, 231, 252, 273, 294, 315, 336, 357, 378, 399, 420, 441, 462, 483]\n"
    }
   ],
   "source": [
    "b=[]\n",
    "for i in range(100,501):\n",
    "    if i%3==0 and i%7==0:\n",
    "        b.append(i)\n",
    "print(b)"
   ]
  },
  {
   "cell_type": "code",
   "execution_count": null,
   "metadata": {},
   "outputs": [],
   "source": []
  }
 ],
 "metadata": {
  "language_info": {
   "codemirror_mode": {
    "name": "ipython",
    "version": 3
   },
   "file_extension": ".py",
   "mimetype": "text/x-python",
   "name": "python",
   "nbconvert_exporter": "python",
   "pygments_lexer": "ipython3",
   "version": 3
  },
  "orig_nbformat": 2,
  "kernelspec": {
   "name": "python_defaultSpec_1594663539308",
   "display_name": "Python 3.8.2 32-bit"
  }
 },
 "nbformat": 4,
 "nbformat_minor": 2
}