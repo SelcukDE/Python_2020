{
 "cells": [
  {
   "cell_type": "code",
   "execution_count": null,
   "metadata": {},
   "outputs": [],
   "source": [
    "print(\"Presss 'q' for quit.\")\n",
    "while True:\n",
    "    number = input(\"Enter a positive Number:\").strip().lower() #1234\n",
    "    numberofdigits = len(number) #4\n",
    "    summ = 0\n",
    "    if number == \"q\":\n",
    "        print(\"See you...\")\n",
    "        break\n",
    "    else:\n",
    "        if number.isnumeric():\n",
    "            for i in range(numberofdigits):\n",
    "                summ += int(number[i]) ** numberofdigits\n",
    "            if summ == int(number):\n",
    "                print(number, \"is a Amstrong Number.\")\n",
    "            else:\n",
    "                print(number, \"is not a Amstrong Number.\")\n",
    "        elif number.count(\".\") == 1 and number.replace(\".\", \"1\").isnumeric() or number.count(\",\") == 1 and number.replace(\",\", \"1\").isnumeric():\n",
    "            print(\"Please enter a integer number.\")\n",
    "        elif number.count(\"-\") == 1 and number.index(\"-\") == 0 and number.replace(\"-\", \"1\").isnumeric():\n",
    "            print(\"Please enter a positive number\")\n",
    "        else:\n",
    "            print(\"Do not use any entries other than numeric values\")print(\"Presss 'q' for quit.\")\n",
    "while True:\n",
    "    number = input(\"Enter a positive Number:\").strip().lower() #1234\n",
    "    numberofdigits = len(number) #4\n",
    "    summ = 0\n",
    "    if number == \"q\":\n",
    "        print(\"See you...\")\n",
    "        break\n",
    "    else:\n",
    "        if number.isnumeric():\n",
    "            for i in range(numberofdigits):\n",
    "                summ += int(number[i]) ** numberofdigits\n",
    "            if summ == int(number):\n",
    "                print(number, \"is a Amstrong Number.\")\n",
    "            else:\n",
    "                print(number, \"is not a Amstrong Number.\")\n",
    "        elif number.count(\".\") == 1 and number.replace(\".\", \"1\").isnumeric() or number.count(\",\") == 1 and number.replace(\",\", \"1\").isnumeric():\n",
    "            print(\"Please enter a integer number.\")\n",
    "        elif number.count(\"-\") == 1 and number.index(\"-\") == 0 and number.replace(\"-\", \"1\").isnumeric():\n",
    "            print(\"Please enter a positive number\")\n",
    "        else:\n",
    "            print(\"Do not use any entries other than numeric values\")"
   ]
  },
  {
   "cell_type": "code",
   "execution_count": 1,
   "metadata": {},
   "outputs": [],
   "source": [
    "def texter(t1, t2, t3) :\n",
    "    print(f\"{t2} {t3} {1}\")"
   ]
  },
  {
   "cell_type": "code",
   "execution_count": 4,
   "metadata": {},
   "outputs": [],
   "source": [
    "a = \"i\"\n",
    "b = \"love\"\n",
    "c = \"you\""
   ]
  },
  {
   "cell_type": "code",
   "execution_count": 5,
   "metadata": {
    "tags": []
   },
   "outputs": [
    {
     "output_type": "stream",
     "name": "stdout",
     "text": "i love 1\n"
    }
   ],
   "source": [
    "texter(c, a, b)"
   ]
  },
  {
   "cell_type": "code",
   "execution_count": 6,
   "metadata": {
    "tags": []
   },
   "outputs": [
    {
     "output_type": "stream",
     "name": "stdout",
     "text": "Your first name is : Guido\nYour last name is : van Rossum\n"
    }
   ],
   "source": [
    "def who(first, last) :  # same structure as the previous one\n",
    "    print('Your first name is :', first)\n",
    "    print('Your last name is :', last)\n",
    "\n",
    "who(first='Guido', last='van Rossum')  # calling the function is different\n",
    "# we used kwargs to pass the values into the function"
   ]
  },
  {
   "cell_type": "code",
   "execution_count": 7,
   "metadata": {},
   "outputs": [],
   "source": [
    "def parrot(voltage, state='a stiff', action='voom', type='Norwegian Blue'):\n",
    "    print(\"-- This parrot wouldn't\", action, end=' ')\n",
    "    print(\"if you put\", voltage, \"volts through it.\")\n",
    "    print(\"-- Lovely plumage, the\", type)\n",
    "    print(\"-- It's\", state, \"!\")"
   ]
  },
  {
   "cell_type": "code",
   "execution_count": 8,
   "metadata": {
    "tags": []
   },
   "outputs": [
    {
     "output_type": "stream",
     "name": "stdout",
     "text": "-- This parrot wouldn't voom if you put 1000 volts through it.\n-- Lovely plumage, the Norwegian Blue\n-- It's a stiff !\n"
    }
   ],
   "source": [
    "parrot(1000)"
   ]
  },
  {
   "cell_type": "code",
   "execution_count": 11,
   "metadata": {
    "tags": []
   },
   "outputs": [
    {
     "output_type": "stream",
     "name": "stdout",
     "text": "-- This parrot wouldn't ZZZZ if you put 55555 volts through it.\n-- Lovely plumage, the Norwegian Blue\n-- It's a stiff !\n"
    }
   ],
   "source": [
    "parrot(voltage = XXXXXX, action = \"ZZZZ\")"
   ]
  },
  {
   "cell_type": "code",
   "execution_count": 12,
   "metadata": {
    "tags": []
   },
   "outputs": [
    {
     "output_type": "stream",
     "name": "stdout",
     "text": "-- This parrot wouldn't voom if you put 1000 volts through it.\n-- Lovely plumage, the Norwegian Blue\n-- It's a stiff !\n-- This parrot wouldn't voom if you put 1000 volts through it.\n-- Lovely plumage, the Norwegian Blue\n-- It's a stiff !\n-- This parrot wouldn't VOOOOOM if you put 1000000 volts through it.\n-- Lovely plumage, the Norwegian Blue\n-- It's a stiff !\n-- This parrot wouldn't VOOOOOM if you put 1000000 volts through it.\n-- Lovely plumage, the Norwegian Blue\n-- It's a stiff !\n-- This parrot wouldn't jump if you put a million volts through it.\n-- Lovely plumage, the Norwegian Blue\n-- It's bereft of life !\n-- This parrot wouldn't voom if you put a thousand volts through it.\n-- Lovely plumage, the Norwegian Blue\n-- It's pushing up the daisies !\n"
    }
   ],
   "source": [
    "parrot(1000)                                          # 1 positional argument\n",
    "parrot(voltage=1000)                                  # 1 keyword argument\n",
    "parrot(voltage=1000000, action='VOOOOOM')             # 2 keyword arguments\n",
    "parrot(action='VOOOOOM', voltage=1000000)             # 2 keyword arguments \n",
    "parrot('a million', 'bereft of life', 'jump')         # 3 positional arguments\n",
    "parrot('a thousand', state='pushing up the daisies')  # 1 positional, 1 keyword"
   ]
  },
  {
   "cell_type": "code",
   "execution_count": 17,
   "metadata": {},
   "outputs": [],
   "source": [
    "def slicer(*num):\n",
    "    even = [i for i in num if i%2==0]\n",
    "    odd  = [j for j in num if j%2!=0]\n",
    "\n",
    "    print(\"even :\", even)\n",
    "    print(\"odd :\", odd)\n",
    "\n"
   ]
  },
  {
   "cell_type": "code",
   "execution_count": 18,
   "metadata": {
    "tags": []
   },
   "outputs": [
    {
     "output_type": "stream",
     "name": "stdout",
     "text": "even : [2, 4, 6, 8]\nodd : [1, 3, 5, 7, 9]\n"
    }
   ],
   "source": [
    "slicer(1,2,3,4,5,6,7,8,9)"
   ]
  },
  {
   "cell_type": "code",
   "execution_count": 19,
   "metadata": {},
   "outputs": [],
   "source": [
    "def slicer2(*num):\n",
    "    even = []\n",
    "    odd  = []\n",
    "\n",
    "    for i in num:\n",
    "        if i%2 == 0:\n",
    "            even.append(i)\n",
    "        else:\n",
    "            odd.append(1)\n",
    "\n",
    "    print(\"even :\", even)\n",
    "    print(\"odd :\", odd)"
   ]
  },
  {
   "cell_type": "code",
   "execution_count": 21,
   "metadata": {
    "tags": []
   },
   "outputs": [
    {
     "output_type": "stream",
     "name": "stdout",
     "text": "even : [2, 4, 6, 8]\nodd : [1, 1, 1, 1, 1]\n"
    }
   ],
   "source": [
    "slicer2(1,2,3,4,5,6,7,8,9)"
   ]
  },
  {
   "cell_type": "code",
   "execution_count": 22,
   "metadata": {},
   "outputs": [],
   "source": [
    "def organiser(**people):\n",
    "    name = []\n",
    "    age  = []\n",
    "\n",
    "    for key, value in people.items():\n",
    "        name.append(key)\n",
    "        age.append(value)\n",
    "\n",
    "    print(name)\n",
    "    print(age)\n",
    "    "
   ]
  },
  {
   "cell_type": "code",
   "execution_count": 23,
   "metadata": {
    "tags": []
   },
   "outputs": [
    {
     "output_type": "stream",
     "name": "stdout",
     "text": "['ahmet', 'recep', 'osman']\n[33, 12, 44]\n"
    }
   ],
   "source": [
    "organiser(ahmet = 33, recep = 12, osman = 44)"
   ]
  },
  {
   "cell_type": "code",
   "execution_count": 36,
   "metadata": {
    "tags": []
   },
   "outputs": [
    {
     "output_type": "error",
     "ename": "NameError",
     "evalue": "name 'arg1' is not defined",
     "traceback": [
      "\u001b[1;31m---------------------------------------------------------------------------\u001b[0m",
      "\u001b[1;31mNameError\u001b[0m                                 Traceback (most recent call last)",
      "\u001b[1;32m<ipython-input-36-4fb771a10100>\u001b[0m in \u001b[0;36m<module>\u001b[1;34m\u001b[0m\n\u001b[0;32m      3\u001b[0m \u001b[1;33m\u001b[0m\u001b[0m\n\u001b[0;32m      4\u001b[0m \u001b[0mgenius\u001b[0m \u001b[1;33m=\u001b[0m \u001b[1;33m(\u001b[0m\u001b[1;34m\"Bill\"\u001b[0m\u001b[1;33m,\u001b[0m \u001b[1;34m\"Rossum\"\u001b[0m\u001b[1;33m,\u001b[0m \u001b[1;34m\"Guido van\"\u001b[0m\u001b[1;33m,\u001b[0m \u001b[1;34m\"Gates\"\u001b[0m\u001b[1;33m)\u001b[0m\u001b[1;33m\u001b[0m\u001b[1;33m\u001b[0m\u001b[0m\n\u001b[1;32m----> 5\u001b[1;33m \u001b[0mmerger\u001b[0m\u001b[1;33m(\u001b[0m\u001b[1;33m*\u001b[0m\u001b[0mgenius\u001b[0m\u001b[1;33m)\u001b[0m\u001b[1;33m\u001b[0m\u001b[1;33m\u001b[0m\u001b[0m\n\u001b[0m",
      "\u001b[1;32m<ipython-input-36-4fb771a10100>\u001b[0m in \u001b[0;36mmerger\u001b[1;34m(gen1, gen2, gen3, gen4)\u001b[0m\n\u001b[0;32m      1\u001b[0m \u001b[1;32mdef\u001b[0m \u001b[0mmerger\u001b[0m\u001b[1;33m(\u001b[0m\u001b[0mgen1\u001b[0m\u001b[1;33m,\u001b[0m \u001b[0mgen2\u001b[0m\u001b[1;33m,\u001b[0m \u001b[0mgen3\u001b[0m\u001b[1;33m,\u001b[0m \u001b[0mgen4\u001b[0m\u001b[1;33m)\u001b[0m\u001b[1;33m:\u001b[0m\u001b[1;33m\u001b[0m\u001b[1;33m\u001b[0m\u001b[0m\n\u001b[1;32m----> 2\u001b[1;33m     \u001b[0mprint\u001b[0m\u001b[1;33m(\u001b[0m\u001b[1;34mf\"For me, {arg1} {arg4} and {arg3} {arg2} are geniuses\"\u001b[0m\u001b[1;33m)\u001b[0m\u001b[1;33m\u001b[0m\u001b[1;33m\u001b[0m\u001b[0m\n\u001b[0m\u001b[0;32m      3\u001b[0m \u001b[1;33m\u001b[0m\u001b[0m\n\u001b[0;32m      4\u001b[0m \u001b[0mgenius\u001b[0m \u001b[1;33m=\u001b[0m \u001b[1;33m(\u001b[0m\u001b[1;34m\"Bill\"\u001b[0m\u001b[1;33m,\u001b[0m \u001b[1;34m\"Rossum\"\u001b[0m\u001b[1;33m,\u001b[0m \u001b[1;34m\"Guido van\"\u001b[0m\u001b[1;33m,\u001b[0m \u001b[1;34m\"Gates\"\u001b[0m\u001b[1;33m)\u001b[0m\u001b[1;33m\u001b[0m\u001b[1;33m\u001b[0m\u001b[0m\n\u001b[0;32m      5\u001b[0m \u001b[0mmerger\u001b[0m\u001b[1;33m(\u001b[0m\u001b[1;33m*\u001b[0m\u001b[0mgenius\u001b[0m\u001b[1;33m)\u001b[0m\u001b[1;33m\u001b[0m\u001b[1;33m\u001b[0m\u001b[0m\n",
      "\u001b[1;31mNameError\u001b[0m: name 'arg1' is not defined"
     ]
    }
   ],
   "source": [
    "def merger(gen1, gen2, gen3, gen4):\n",
    "    print(f\"For me, {arg1} {arg4} and {arg3} {arg2} are geniuses\")\n",
    "  \n",
    "genius = (\"Bill\", \"Rossum\", \"Guido van\", \"Gates\")\n",
    "merger(*genius)\n"
   ]
  },
  {
   "cell_type": "code",
   "execution_count": 41,
   "metadata": {
    "tags": []
   },
   "outputs": [
    {
     "output_type": "stream",
     "name": "stdout",
     "text": "\\nhello\n"
    }
   ],
   "source": [
    "print(r\"\\nhello\")\n"
   ]
  },
  {
   "cell_type": "code",
   "execution_count": 42,
   "metadata": {
    "tags": []
   },
   "outputs": [
    {
     "output_type": "stream",
     "name": "stdout",
     "text": "newline\n"
    }
   ],
   "source": [
    "print(\"new\" \"line\")"
   ]
  },
  {
   "cell_type": "code",
   "execution_count": 46,
   "metadata": {
    "tags": []
   },
   "outputs": [
    {
     "output_type": "stream",
     "name": "stdout",
     "text": "\\nhello\n"
    }
   ],
   "source": [
    "print(r\"\\nhello\")"
   ]
  },
  {
   "cell_type": "code",
   "execution_count": 47,
   "metadata": {},
   "outputs": [
    {
     "output_type": "error",
     "ename": "SyntaxError",
     "evalue": "invalid syntax (<ipython-input-47-693762d2e4e6>, line 1)",
     "traceback": [
      "\u001b[1;36m  File \u001b[1;32m\"<ipython-input-47-693762d2e4e6>\"\u001b[1;36m, line \u001b[1;32m1\u001b[0m\n\u001b[1;33m    print(\"new\" \"line\" \"end\" 3)\u001b[0m\n\u001b[1;37m                             ^\u001b[0m\n\u001b[1;31mSyntaxError\u001b[0m\u001b[1;31m:\u001b[0m invalid syntax\n"
     ]
    }
   ],
   "source": [
    "print(\"new\" \"line\" \"end\" 3)"
   ]
  },
  {
   "cell_type": "code",
   "execution_count": 48,
   "metadata": {
    "tags": []
   },
   "outputs": [
    {
     "output_type": "stream",
     "name": "stdout",
     "text": "newlineend 3\n"
    }
   ],
   "source": [
    "print(\"new\" \"line\" \"end\", 3)"
   ]
  },
  {
   "cell_type": "code",
   "execution_count": null,
   "metadata": {},
   "outputs": [],
   "source": [
    "str1 = \"clarsuway\"\n",
    "print(str1[::-1])"
   ]
  },
  {
   "cell_type": "code",
   "execution_count": 50,
   "metadata": {
    "tags": []
   },
   "outputs": [
    {
     "output_type": "stream",
     "name": "stdout",
     "text": "['Beth', 'Oscar', 'Justin', 'Frank']\n[26, 42, 18, 33]\n"
    }
   ],
   "source": [
    "\n",
    "def organizer(**kwargs):\n",
    "    list_name=[]\n",
    "    list_ages=[]\n",
    "    for key,value in kwargs.items():\n",
    "        list_name.append(key)\n",
    "        list_ages.append(value)\n",
    "    print(list_name)\n",
    "    print(list_ages)\n",
    "organizer(Beth=26,Oscar=42,Justin=18,Frank=33)"
   ]
  },
  {
   "cell_type": "code",
   "execution_count": 51,
   "metadata": {
    "tags": []
   },
   "outputs": [
    {
     "output_type": "stream",
     "name": "stdout",
     "text": "['Beth', 'Oscar', 'Justin', 'Frank']\n[26, 42, 18, 33]\n"
    }
   ],
   "source": [
    "def organiser(**kwargs):\n",
    "    names = []\n",
    "    ages =[]\n",
    "    for key, value in kwargs.items():\n",
    "        names.append(key)\n",
    "        ages.append(value)\n",
    "    print(names)\n",
    "    print(ages)\n",
    "organiser(Beth=26, Oscar=42, Justin=18, Frank=33)"
   ]
  },
  {
   "cell_type": "code",
   "execution_count": 53,
   "metadata": {
    "tags": []
   },
   "outputs": [
    {
     "output_type": "stream",
     "name": "stdout",
     "text": "['Beth', 'Oscar', 'Justin', 'Franks']\n[23, 42, 18, 24]\n"
    }
   ],
   "source": [
    "name, age=[], []\n",
    "def organizer(**kwargs):\n",
    "    for a,b in kwargs.items():\n",
    "        name.append(a)\n",
    "        age.append(b)\n",
    "organizer(Beth=23, Oscar=42, Justin=18,  Franks=24)\n",
    "print(name)\n",
    "print(age)"
   ]
  },
  {
   "cell_type": "code",
   "execution_count": 54,
   "metadata": {
    "tags": []
   },
   "outputs": [
    {
     "output_type": "stream",
     "name": "stdout",
     "text": "['Beth', 'Oscar', 'Justin', 'Frank']\n[26, 42, 18, 33]\n"
    }
   ],
   "source": [
    "def organizer(**kwargs):\n",
    "    print([i for i in kwargs.keys()])\n",
    "    print([i for i in kwargs.values()])\n",
    "organizer(Beth = 26, Oscar = 42, Justin = 18, Frank = 33)"
   ]
  },
  {
   "cell_type": "code",
   "execution_count": 57,
   "metadata": {
    "tags": []
   },
   "outputs": [
    {
     "output_type": "stream",
     "name": "stdout",
     "text": "names:  ['ali', 'veli']\nages:  [42, 25]\n"
    }
   ],
   "source": [
    "\n",
    "# E2236-Aydin  1 hour ago\n",
    "def organizer(**kwargs):\n",
    "    list_names = list(kwargs.keys())\n",
    "    list_ages = list(kwargs.values())\n",
    "    print(\"names: \", list_names)\n",
    "    print(\"ages: \", list_ages)\n",
    "organizer (ali = 42, veli = 25)"
   ]
  },
  {
   "cell_type": "code",
   "execution_count": 58,
   "metadata": {
    "tags": []
   },
   "outputs": [
    {
     "output_type": "stream",
     "name": "stdout",
     "text": "['Beth', 'Ahmet', 'Mehmet', 'latif']\n[26, 40, 41, 45]\n"
    }
   ],
   "source": [
    "# E2069 - Ahmet  1 hour ago\n",
    "def organizer(**x):\n",
    "    names = [i for i in x.keys()]\n",
    "    ages = [j for j in x.values()]\n",
    "    print(names)\n",
    "    print(ages)\n",
    "organizer(Beth = 26, Ahmet = 40, Mehmet = 41, latif = 45)"
   ]
  },
  {
   "cell_type": "code",
   "execution_count": null,
   "metadata": {},
   "outputs": [],
   "source": []
  }
 ],
 "metadata": {
  "language_info": {
   "codemirror_mode": {
    "name": "ipython",
    "version": 3
   },
   "file_extension": ".py",
   "mimetype": "text/x-python",
   "name": "python",
   "nbconvert_exporter": "python",
   "pygments_lexer": "ipython3",
   "version": 3
  },
  "orig_nbformat": 2,
  "kernelspec": {
   "name": "python_defaultSpec_1594747911729",
   "display_name": "Python 3.8.2 32-bit"
  }
 },
 "nbformat": 4,
 "nbformat_minor": 2
}