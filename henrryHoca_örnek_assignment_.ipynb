{
 "cells": [
  {
   "cell_type": "code",
   "execution_count": null,
   "metadata": {},
   "outputs": [],
   "source": [
    "print(\"Presss 'q' for quit.\")\n",
    "while True:\n",
    "    number = input(\"Enter a positive Number:\").strip().lower() #1234\n",
    "    numberofdigits = len(number) #4\n",
    "    summ = 0\n",
    "    if number == \"q\":\n",
    "        print(\"See you...\")\n",
    "        break\n",
    "    else:\n",
    "        if number.isnumeric():\n",
    "            for i in range(numberofdigits):\n",
    "                summ += int(number[i]) ** numberofdigits\n",
    "            if summ == int(number):\n",
    "                print(number, \"is a Amstrong Number.\")\n",
    "            else:\n",
    "                print(number, \"is not a Amstrong Number.\")\n",
    "        elif number.count(\".\") == 1 and number.replace(\".\", \"1\").isnumeric() or number.count(\",\") == 1 and number.replace(\",\", \"1\").isnumeric():\n",
    "            print(\"Please enter a integer number.\")\n",
    "        elif number.count(\"-\") == 1 and number.index(\"-\") == 0 and number.replace(\"-\", \"1\").isnumeric():\n",
    "            print(\"Please enter a positive number\")\n",
    "        else:\n",
    "            print(\"Do not use any entries other than numeric values\")print(\"Presss 'q' for quit.\")\n",
    "while True:\n",
    "    number = input(\"Enter a positive Number:\").strip().lower() #1234\n",
    "    numberofdigits = len(number) #4\n",
    "    summ = 0\n",
    "    if number == \"q\":\n",
    "        print(\"See you...\")\n",
    "        break\n",
    "    else:\n",
    "        if number.isnumeric():\n",
    "            for i in range(numberofdigits):\n",
    "                summ += int(number[i]) ** numberofdigits\n",
    "            if summ == int(number):\n",
    "                print(number, \"is a Amstrong Number.\")\n",
    "            else:\n",
    "                print(number, \"is not a Amstrong Number.\")\n",
    "        elif number.count(\".\") == 1 and number.replace(\".\", \"1\").isnumeric() or number.count(\",\") == 1 and number.replace(\",\", \"1\").isnumeric():\n",
    "            print(\"Please enter a integer number.\")\n",
    "        elif number.count(\"-\") == 1 and number.index(\"-\") == 0 and number.replace(\"-\", \"1\").isnumeric():\n",
    "            print(\"Please enter a positive number\")\n",
    "        else:\n",
    "            print(\"Do not use any entries other than numeric values\")"
   ]
  },
  {
   "cell_type": "code",
   "execution_count": null,
   "metadata": {},
   "outputs": [],
   "source": [
    "times = 3\n",
    "\n",
    "for i in range(times):\n",
    "    print('{}x{} = \".format(n, i), n*i)\n"
   ]
  },
  {
   "cell_type": "code",
   "execution_count": null,
   "metadata": {},
   "outputs": [],
   "source": []
  }
 ],
 "metadata": {
  "language_info": {
   "codemirror_mode": {
    "name": "ipython",
    "version": 3
   },
   "file_extension": ".py",
   "mimetype": "text/x-python",
   "name": "python",
   "nbconvert_exporter": "python",
   "pygments_lexer": "ipython3",
   "version": 3
  },
  "orig_nbformat": 2
 },
 "nbformat": 4,
 "nbformat_minor": 2
}