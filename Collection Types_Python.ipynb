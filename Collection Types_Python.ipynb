{
 "cells": [
  {
   "cell_type": "code",
   "execution_count": 7,
   "metadata": {},
   "outputs": [
    {
     "name": "stdout",
     "output_type": "stream",
     "text": [
      "['USA', 'Brasil', 'UK', 'Germany', 'Turkey', 'New Zealand']\n"
     ]
    }
   ],
   "source": [
    "# LISTS\n",
    "# list koseli parantez ve virgul kullnarak olusturulur. \n",
    "# list icinden birden cok degisken saklanır.\n",
    "# Asagidaki ornekte ulke isimleri country isimli list e atanmistir.\n",
    "# Saklandıkları sırayla yazilirlar.\n",
    "\n",
    "country = ['USA', 'Brasil', 'UK', 'Germany', 'Turkey', 'New Zealand']\n",
    "print(country)"
   ]
  },
  {
   "cell_type": "code",
   "execution_count": 10,
   "metadata": {},
   "outputs": [
    {
     "name": "stdout",
     "output_type": "stream",
     "text": [
      "['I', ' ', 'q', 'u', 'i', 't', ' ', 's', 'm', 'o', 'k', 'i', 'n', 'g']\n",
      "14\n",
      "['I quit smoking']\n",
      "1\n"
     ]
    }
   ],
   "source": [
    "# list fonksiyonu kullanarak list olusturma\n",
    "\n",
    "string_1 = 'I quit smoking'\n",
    "\n",
    "new_list_1 = list(string_1)  # cok elemanlı list olusturduk. \n",
    "                             # Sonuctan gorulecegi gibi ayni deger (ornegin 'i') birden cok yer alabilir.\n",
    "print(new_list_1)\n",
    "print(len(new_list_1))\n",
    "\n",
    "new_list_2 = [string_1]  # dikkat! burada  tek elemanlı bir list olusur. \n",
    "print(new_list_2)\n",
    "print(len(new_list_2))"
   ]
  },
  {
   "cell_type": "code",
   "execution_count": 14,
   "metadata": {},
   "outputs": [
    {
     "name": "stdout",
     "output_type": "stream",
     "text": [
      "[11, 'Joseph', False, 3.14, None, [1, 2, 3]]\n",
      "6\n"
     ]
    }
   ],
   "source": [
    "# list icinde birden farkli veri tipleri saklanabilir.\n",
    "mixed_list = [11, 'Joseph', False, 3.14, None, [1, 2, 3]]  # dikkat! List elemanlari arasina list ([1, 2, 3]) koyabiliyoruz.\n",
    "print(mixed_list)\n",
    "print(len(mixed_list))"
   ]
  },
  {
   "cell_type": "code",
   "execution_count": 15,
   "metadata": {},
   "outputs": [
    {
     "name": "stdout",
     "output_type": "stream",
     "text": [
      "22\n"
     ]
    }
   ],
   "source": [
    "warning = 'You must quit smoking!' # bosluklar ve unlem dahil 22 karakter var. \n",
    "                                   # list fonksiyonu kullanarak hepsini birbirinden ayirinca 22 elemanlı bir list olusur.\n",
    "\n",
    "print(len(list(warning)))"
   ]
  },
  {
   "cell_type": "code",
   "execution_count": 18,
   "metadata": {},
   "outputs": [
    {
     "name": "stdout",
     "output_type": "stream",
     "text": [
      "0\n",
      "0\n"
     ]
    }
   ],
   "source": [
    "# bos list olusturma. eleman sayisi 0.\n",
    "empty_list_1= []\n",
    "empty_list_2 = list()\n",
    "print(len(empty_list_1))\n",
    "print(len(empty_list_2))"
   ]
  },
  {
   "cell_type": "code",
   "execution_count": 20,
   "metadata": {},
   "outputs": [
    {
     "name": "stdout",
     "output_type": "stream",
     "text": [
      "['114', 'plastic-free sea']\n",
      "2\n"
     ]
    }
   ],
   "source": [
    "# bos listeye .append ile ekleme yapalim. Arka arkaya ekler.\n",
    "empty_list_1 = []\n",
    "empty_list_1.append('114')\n",
    "empty_list_1.append('plastic-free sea')\n",
    "\n",
    "print(empty_list_1)\n",
    "print(len(empty_list_1))"
   ]
  },
  {
   "cell_type": "code",
   "execution_count": 22,
   "metadata": {},
   "outputs": [
    {
     "name": "stdout",
     "output_type": "stream",
     "text": [
      "['New York', 'London', 'Istanbul', 'Seoul', 'Sydney', 'Addis Ababa']\n"
     ]
    }
   ],
   "source": [
    "# Varolan listenin sonuna .append ile ekleme yapalim. En sona ekleme yapar.\n",
    "city = ['New York', 'London', 'Istanbul', 'Seoul', 'Sydney']\n",
    "city.append('Addis Ababa')\n",
    "\n",
    "print(city)"
   ]
  },
  {
   "cell_type": "code",
   "execution_count": 31,
   "metadata": {},
   "outputs": [
    {
     "name": "stdout",
     "output_type": "stream",
     "text": [
      "['New York', 'London', 'Istanbul', 'Seoul', 'Sydney', 'Addis Ababa']\n",
      "6\n",
      "['New York', 'London', 'Stockholm', 'Istanbul', 'Seoul', 'Sydney', 'Addis Ababa']\n",
      "7\n"
     ]
    }
   ],
   "source": [
    "# Varolan listenin herhangi bir yerine .insert ile ekleme yapalim. .\n",
    "city = ['New York', 'London', 'Istanbul', 'Seoul', 'Sydney', 'Addis Ababa']\n",
    "print(city)\n",
    "print(len(city))\n",
    "\n",
    "city.insert(2, 'Stockholm')  # 2.indekse ekleme yapti. Dikkat! indeks 0'dan baslar.\n",
    "print(city)\n",
    "print(len(city))"
   ]
  },
  {
   "cell_type": "code",
   "execution_count": 34,
   "metadata": {},
   "outputs": [
    {
     "name": "stdout",
     "output_type": "stream",
     "text": [
      "['New York', 'London', 'Stockholm', 'Istanbul', 'Seoul', 'Sydney', 'Addis Ababa']\n",
      "7\n",
      "['New York', 'Stockholm', 'Istanbul', 'Seoul', 'Sydney', 'Addis Ababa']\n",
      "6\n"
     ]
    }
   ],
   "source": [
    "# list den .remove ile eleman silme\n",
    "city = ['New York', 'London', 'Stockholm', 'Istanbul', 'Seoul', 'Sydney', 'Addis Ababa']\n",
    "print(city)\n",
    "print(len(city))\n",
    "\n",
    "city.remove('London')\n",
    "print(city)  # 'London' silindi\n",
    "print(len(city))"
   ]
  },
  {
   "cell_type": "code",
   "execution_count": 35,
   "metadata": {},
   "outputs": [
    {
     "name": "stdout",
     "output_type": "stream",
     "text": [
      "['New York', 'Stockholm', 'Istanbul', 'Seoul', 'Sydney', 'Addis Ababa']\n",
      "['Addis Ababa', 'Istanbul', 'New York', 'Seoul', 'Stockholm', 'Sydney']\n"
     ]
    }
   ],
   "source": [
    "# list elemanlarini .sort ile alfabetik siraya dizelim\n",
    "city = ['New York', 'Stockholm', 'Istanbul', 'Seoul', 'Sydney', 'Addis Ababa']\n",
    "print(city)\n",
    "\n",
    "city.sort()  # list alfabetik siraya gore olusur\n",
    "print(city)   "
   ]
  },
  {
   "cell_type": "code",
   "execution_count": 36,
   "metadata": {},
   "outputs": [
    {
     "name": "stdout",
     "output_type": "stream",
     "text": [
      "[1, 3, 5, 7, 1, 3, 5, 7, 1, 3, 5, 7]\n"
     ]
    }
   ],
   "source": [
    "# list bir integer ile carpalim. Carpim miktari kadar kendini tekrar eder.\n",
    "my_list = [1, 3, 5, 7]\n",
    "print(my_list * 3)"
   ]
  },
  {
   "cell_type": "code",
   "execution_count": 39,
   "metadata": {},
   "outputs": [
    {
     "name": "stdout",
     "output_type": "stream",
     "text": [
      "['New York', 'Stockholm', 'Istanbul', 'Seoul', 'Sydney', 'Addis Ababa']\n",
      "['New York', 'Melbourne', 'Istanbul', 'Seoul', 'Sydney', 'Addis Ababa']\n"
     ]
    }
   ],
   "source": [
    "# belirli bir indeks numarasina eleman atayalim.\n",
    "city = ['New York', 'Stockholm', 'Istanbul', 'Seoul', 'Sydney', 'Addis Ababa']\n",
    "print(city) \n",
    "city[1] = 'Melbourne'  # 1.indekse 'Melbourne' ü atayalim.\n",
    "print(city)  #  'Stockholm' slindi, 'Melbourne' yazildi."
   ]
  },
  {
   "cell_type": "code",
   "execution_count": 40,
   "metadata": {},
   "outputs": [
    {
     "name": "stdout",
     "output_type": "stream",
     "text": [
      "5\n",
      "blue\n"
     ]
    }
   ],
   "source": [
    "# ACCESSING LISTS\n",
    "colors = ['red', 'purple', 'blue', 'yellow', 'green']\n",
    "print(len(colors))  # Toplam indeks sayimiz: 5\n",
    "print(colors[2])  # Dikkat indeks 0'dan baslar. 2.indeksimiz 'blue'"
   ]
  },
  {
   "cell_type": "code",
   "execution_count": 42,
   "metadata": {},
   "outputs": [
    {
     "name": "stdout",
     "output_type": "stream",
     "text": [
      "5\n",
      "0\n",
      "[['New York', 'London', 'Istanbul', 'Seoul', 'Sydney']]\n",
      "1\n"
     ]
    }
   ],
   "source": [
    "# bos olan bir list e dolu bir list i ekleyelim \n",
    "city = ['New York', 'London', 'Istanbul', 'Seoul', 'Sydney']\n",
    "print(len(city))  # indeks uzunlugu yani eleman sayisi 5 olacak\n",
    "\n",
    "city_list = []\n",
    "print(len(city_list))  # indeks uzunlugu 0 olacak\n",
    "\n",
    "city_list.append(city) # bos list e dolu list i ekledik. \n",
    "                       # Dikkat! dolu list tek bir eleman gibi eklenecek\n",
    "                       # sonuca dikkat edelim. iki koseli parantez ic ice (nested) gecmis\n",
    "\n",
    "print(city_list)\n",
    "print(len(city_list))  # indeks uzunlugu 1 olacak"
   ]
  },
  {
   "cell_type": "code",
   "execution_count": 43,
   "metadata": {},
   "outputs": [
    {
     "name": "stdout",
     "output_type": "stream",
     "text": [
      "['New York', 'London', 'Istanbul', 'Seoul', 'Sydney']\n"
     ]
    }
   ],
   "source": [
    "# yukarida indeks uzunlugu : len(city_list) = 1 idi. Yani tek bir elemani var.\n",
    "# simdi 0.indekste yer alan bu bir elemani yazdiralim\n",
    "\n",
    "city_list = [['New York', 'London', 'Istanbul', 'Seoul', 'Sydney']]\n",
    "print(city_list[0])"
   ]
  },
  {
   "cell_type": "code",
   "execution_count": 44,
   "metadata": {},
   "outputs": [
    {
     "name": "stdout",
     "output_type": "stream",
     "text": [
      "Istanbul\n"
     ]
    }
   ],
   "source": [
    "# yukarida indeks uzunlugu : len(city_list) = 1 idi. Yani tek bir elemani var.\n",
    "# simdi 0.indekste yer alan bu bir elemanin 2.indeksinde yer alan elemanini yazdiralim\n",
    "\n",
    "city_list = [['New York', 'London', 'Istanbul', 'Seoul', 'Sydney']]\n",
    "print(city_list[0][2])"
   ]
  },
  {
   "cell_type": "code",
   "execution_count": 45,
   "metadata": {},
   "outputs": [
    {
     "name": "stdout",
     "output_type": "stream",
     "text": [
      "a\n"
     ]
    }
   ],
   "source": [
    "# yukarida indeks uzunlugu : len(city_list) = 1 idi. Yani tek bir elemani var.\n",
    "# simdi 0.indekste yer alan bu bir elemanin 2.indeksinde yer alan elemaninin 3.indeksindeki elemanini yazdiralim\n",
    "\n",
    "city_list = [['New York', 'London', 'Istanbul', 'Seoul', 'Sydney']]\n",
    "print(city_list[0][2][3])"
   ]
  },
  {
   "cell_type": "code",
   "execution_count": 49,
   "metadata": {},
   "outputs": [
    {
     "name": "stdout",
     "output_type": "stream",
     "text": [
      "8\n",
      "27\n"
     ]
    }
   ],
   "source": [
    "odd_numbers = [[11, 13, 15], 17, 19, 21, 23, 25, 27, 29]\n",
    "\n",
    "print(len(odd_numbers))\n",
    "print(odd_numbers[6])"
   ]
  },
  {
   "cell_type": "code",
   "execution_count": 51,
   "metadata": {},
   "outputs": [
    {
     "name": "stdout",
     "output_type": "stream",
     "text": [
      "[['apple', 'banana', 'watermelon', 'orange', 'mango', 'avocado']]\n",
      "1\n",
      "l\n"
     ]
    }
   ],
   "source": [
    "fruits = ['apple', 'banana', 'watermelon', 'orange', 'mango', 'avocado']\n",
    "\n",
    "fruit_list = []\n",
    "fruit_list.insert(0, fruits) # bos olan fruit_list in 0.indeksine fruits list i tek bir eleman olarak ekliyoruz.\n",
    "\n",
    "print(fruit_list)  # dikkat!2 tane koseli parantez var\n",
    "print(len(fruit_list))  # eleman sayisi 1 dir.\n",
    "print(fruit_list[0][2][7])  # 0.indeksin 2.indeksinde watermelon, onun 7.indeksinde ise l harfi vardir."
   ]
  },
  {
   "cell_type": "code",
   "execution_count": 52,
   "metadata": {},
   "outputs": [
    {
     "name": "stdout",
     "output_type": "stream",
     "text": [
      "[5, 7, 9]\n"
     ]
    }
   ],
   "source": [
    "# liste Dilimleme (Slicing)\n",
    "numbers = [1, 3, 5, 7, 9, 11, 13, 15, 17]\n",
    "print(numbers[2:5])  # 5 dahil olmayacak sekilde 2.indeksten 5.indekse kadar olan (yani 2., 3., 4.) elemanlari yazdiriyoruz\n"
   ]
  },
  {
   "cell_type": "code",
   "execution_count": 54,
   "metadata": {},
   "outputs": [
    {
     "name": "stdout",
     "output_type": "stream",
     "text": [
      "[0, 1, 2, 3, 4, 5, 6, 7, 8, 9, 10]\n",
      "[0, 2, 4, 6, 8, 10]\n"
     ]
    }
   ],
   "source": [
    "# range komutu ile sayi dizisi olusturulur\n",
    "count = list(range(11))\n",
    "\n",
    "print(count)\n",
    "print(count[0:11:2])  # 0.indeksten 11.indekse (11 haric) iki atlayarak sayilari yazdiriyoruz."
   ]
  },
  {
   "cell_type": "code",
   "execution_count": 56,
   "metadata": {},
   "outputs": [
    {
     "name": "stdout",
     "output_type": "stream",
     "text": [
      "['elephant', 'bear', 'fox', 'wolf', 'rabbit', 'deer', 'giraffe']\n",
      "['wolf', 'rabbit', 'deer', 'giraffe']\n",
      "['elephant', 'bear', 'fox', 'wolf', 'rabbit']\n",
      "['elephant', 'fox', 'rabbit', 'giraffe']\n"
     ]
    }
   ],
   "source": [
    "animals = ['elephant', 'bear', 'fox', 'wolf', 'rabbit', 'deer', 'giraffe']\n",
    "\n",
    "print(animals[:])  # list in tum elemanlarini yazdirir\n",
    "print(animals[3:])  # list in 3.indeksten son indekse kadar tum elemanlarini yazdirir\n",
    "print(animals[:5])  # list in 0.indeksten 5.indekse kadar (5 haric) tum elemanlarini yazdirir\n",
    "print(animals[::2])  # list in 0.indeksten son indekse kadar tum elemanlarini iki atlayarak yazdirir"
   ]
  },
  {
   "cell_type": "code",
   "execution_count": 57,
   "metadata": {},
   "outputs": [
    {
     "name": "stdout",
     "output_type": "stream",
     "text": [
      "[10, 12, 14, 16, 18]\n"
     ]
    }
   ],
   "source": [
    "even_numbers = [2, 4, 6, 8, 10, 12, 14, 16, 18, 20]\n",
    "\n",
    "print(even_numbers[4:9])  # 4.indeksten 9.indekse (9 haric) sayilari yazdirir."
   ]
  },
  {
   "cell_type": "code",
   "execution_count": 60,
   "metadata": {},
   "outputs": [
    {
     "name": "stdout",
     "output_type": "stream",
     "text": [
      "1\n"
     ]
    }
   ],
   "source": [
    "print(len([[12, 34, 56]]))  # dikkat! 2 tane koseli parantez ic ice. list icinde list. eleman sayisi 1\n"
   ]
  },
  {
   "cell_type": "code",
   "execution_count": 78,
   "metadata": {},
   "outputs": [
    {
     "name": "stdout",
     "output_type": "stream",
     "text": [
      "3\n",
      "1\n",
      "[12, 34, 56]\n",
      "3\n"
     ]
    }
   ],
   "source": [
    "print(len([[12, 34, 56]][0]))  # dikkat! 2 koseli parantez var. \n",
    "                               # [[12, 34, 56]] list inin 0.indekste yer alan tek bir elemani var. O da bir list [12, 34, 56].\n",
    "                               # Dolayisiyla 0.indekste yer alan elemanin 0.indeksi [12, 34, 56]\n",
    "                               # [12, 34, 56] 'in uzunlugu ise 3'\n",
    "\n",
    "# Soyle yaparsak daha rahat gorebiliriz. a degiskenine [12, 34, 56] listesini atayalim\n",
    "a = [[12, 34, 56]]\n",
    "print(len(a))       # a degiskeninin uzunlugu 1\n",
    "print(a[0])         # a degiskeninin 0.indeksi [12, 34, 56]\n",
    "print(len(a[0]))    # a degiskeninin 0.indeksinin uzunlugu dolayisiyla 3 olur."
   ]
  },
  {
   "cell_type": "code",
   "execution_count": 79,
   "metadata": {},
   "outputs": [
    {
     "name": "stdout",
     "output_type": "stream",
     "text": [
      "London\n"
     ]
    }
   ],
   "source": [
    "# Negatif İndeksleme\n",
    "# en sagdaki yani en sondaki indeks -1. sola dogru -1 azalarak geliyoruz.\n",
    "\n",
    "city = ['New York', 'London', 'Istanbul', 'Seoul', 'Sydney']\n",
    "print(city[-4])  # en sagdaki -1.indeks ve sadece onu yazar"
   ]
  },
  {
   "cell_type": "code",
   "execution_count": 80,
   "metadata": {},
   "outputs": [
    {
     "name": "stdout",
     "output_type": "stream",
     "text": [
      "['lobster', 'squid', 'octopus']\n"
     ]
    }
   ],
   "source": [
    "reef = ['swordfish', 'shark', 'whale', 'jellyfish', 'lobster', 'squid', 'octopus']\n",
    "print(reef[-3:])  # -3.indeksten en sona kadar olanlari yazar"
   ]
  },
  {
   "cell_type": "code",
   "execution_count": 81,
   "metadata": {},
   "outputs": [
    {
     "name": "stdout",
     "output_type": "stream",
     "text": [
      "['swordfish', 'shark', 'whale', 'jellyfish']\n"
     ]
    }
   ],
   "source": [
    "reef = ['swordfish', 'shark', 'whale', 'jellyfish', 'lobster', 'squid', 'octopus']\n",
    "print(reef[:-3])  # 0.indeksten -3.indekse kadar (-3 haric) olanlari yazar"
   ]
  },
  {
   "cell_type": "code",
   "execution_count": 112,
   "metadata": {},
   "outputs": [
    {
     "name": "stdout",
     "output_type": "stream",
     "text": [
      "['octopus', 'squid', 'lobster', 'jellyfish', 'whale', 'shark', 'swordfish']\n",
      "['octopus', 'squid', 'lobster', 'jellyfish', 'whale', 'shark', 'swordfish']\n"
     ]
    }
   ],
   "source": [
    "reef = ['swordfish', 'shark', 'whale', 'jellyfish', 'lobster', 'squid', 'octopus']\n",
    "print(reef[::-1])  # tum listeyi tersten yazar\n",
    "reef.reverse()  # tum listeyi tersten yazdirmanin bir diger yolu .reverse komutudur\n",
    "print(reef)"
   ]
  },
  {
   "cell_type": "code",
   "execution_count": 83,
   "metadata": {},
   "outputs": [
    {
     "name": "stdout",
     "output_type": "stream",
     "text": [
      "['octopus', 'lobster', 'whale', 'swordfish']\n"
     ]
    }
   ],
   "source": [
    "reef = ['swordfish', 'shark', 'whale', 'jellyfish', 'lobster', 'squid', 'octopus']\n",
    "print(reef[::-2])  # tum listeyi tersten ama 1 atlayarak yazar\n"
   ]
  },
  {
   "cell_type": "code",
   "execution_count": 84,
   "metadata": {},
   "outputs": [
    {
     "name": "stdout",
     "output_type": "stream",
     "text": [
      "[8, 7, 6, 5]\n",
      "[]\n"
     ]
    }
   ],
   "source": [
    "# negatif adım seçersek, start degeri end degerinden buyuk olmalidir.\n",
    "\n",
    "odd_no = [1, 2, 3, 4, 5, 6, 7, 8, 9, 10]\n",
    "\n",
    "print(odd_no[7:3:-1])\n",
    "print(odd_no[2:6:-1])"
   ]
  },
  {
   "cell_type": "code",
   "execution_count": 117,
   "metadata": {},
   "outputs": [
    {
     "name": "stdout",
     "output_type": "stream",
     "text": [
      "()\n",
      "<class 'tuple'>\n",
      "0\n"
     ]
    }
   ],
   "source": [
    "# TUPLES\n",
    "# list gibidir ancak immutable yani degistirilemez, .append, .remove calismaz. daha hizlidir. \n",
    "# Normal parantez ve virgul kullanilir\n",
    "empty_tuple = ()\n",
    "\n",
    "print(empty_tuple)  # bos bir tuple olusturduk\n",
    "print(type(empty_tuple))  # sinifi tuple\n",
    "print(len(empty_tuple))  # eleman sayisi 0"
   ]
  },
  {
   "cell_type": "code",
   "execution_count": 96,
   "metadata": {},
   "outputs": [
    {
     "name": "stdout",
     "output_type": "stream",
     "text": [
      "love\n",
      "<class 'str'>\n",
      "('love',)\n",
      "<class 'tuple'>\n"
     ]
    }
   ],
   "source": [
    "try_tuple = ('love')\n",
    "print(try_tuple)\n",
    "print(type(try_tuple)) # virgul eklemezsek bunu string kabul eder.\n",
    "\n",
    "try_tuple = ('love',)  # virgul ekleyince tek elemanli tuple olustu\n",
    "print(try_tuple)\n",
    "print(type(try_tuple))"
   ]
  },
  {
   "cell_type": "code",
   "execution_count": 99,
   "metadata": {},
   "outputs": [
    {
     "name": "stdout",
     "output_type": "stream",
     "text": [
      "('mercury', 'jupiter', 'saturn')\n",
      "<class 'tuple'>\n",
      "<class 'tuple'>\n"
     ]
    }
   ],
   "source": [
    "planets = 'mercury', 'jupiter', 'saturn' # birden cok elemanli tuple olusturmak icin araya virgul koymak yeterli\n",
    "planets2 = ('mercury', 'jupiter', 'saturn')  # parantezli yada parantezsiz farketmez ikisi de tuple olur\n",
    "\n",
    "print(planets)\n",
    "print(type(planets))\n",
    "print(type(planets2))"
   ]
  },
  {
   "cell_type": "code",
   "execution_count": 115,
   "metadata": {},
   "outputs": [
    {
     "name": "stdout",
     "output_type": "stream",
     "text": [
      "()\n",
      "<class 'tuple'>\n",
      "0\n"
     ]
    }
   ],
   "source": [
    "# tuple fonksiyonu\n",
    "empty_tuple_1 = tuple()\n",
    "\n",
    "print(empty_tuple_1)  # bos bir tuple olusturduk\n",
    "print(type(empty_tuple_1))  # sinifi tuple\n",
    "print(len(empty_tuple_1))  # eleman sayisi 0"
   ]
  },
  {
   "cell_type": "code",
   "execution_count": 118,
   "metadata": {},
   "outputs": [
    {
     "name": "stdout",
     "output_type": "stream",
     "text": [
      "<class 'list'> [1, 4, 3, 4, 5, 6, 7, 4]\n",
      "<class 'tuple'> (1, 4, 3, 4, 5, 6, 7, 4)\n"
     ]
    }
   ],
   "source": [
    "# list ve tuple lari birbirine donusturelim\n",
    "my_tuple=(1, 4, 3, 4, 5, 6, 7, 4)  # normal parantez, bu bir tuple\n",
    "my_list = list(my_tuple)  # list fonksiyonu ile tuple list e cevrildi\n",
    "print(type(my_list), my_list)\n",
    "\n",
    "my_list = [1, 4, 3, 4, 5, 6, 7, 4]  # koseli parantez, bu bir list\n",
    "my_tuple = tuple(my_list)  # tuple fonksiyonu ile list tuple a cevrildi\n",
    "print(type(my_tuple), my_tuple)"
   ]
  },
  {
   "cell_type": "code",
   "execution_count": 123,
   "metadata": {},
   "outputs": [
    {
     "name": "stdout",
     "output_type": "stream",
     "text": [
      "('A', 'l', 'p', 's') <class 'tuple'> 4\n"
     ]
    }
   ],
   "source": [
    "# stringi tuple a cevirelim\n",
    "mountain = tuple('Alps')\n",
    "\n",
    "print(mountain, type(mountain), len(mountain))"
   ]
  },
  {
   "cell_type": "code",
   "execution_count": 124,
   "metadata": {},
   "outputs": [
    {
     "name": "stdout",
     "output_type": "stream",
     "text": [
      "4\n"
     ]
    }
   ],
   "source": [
    "# farkli degerleri ayni tuple a atayalim\n",
    "mix_value_tuple = (0, 'bird', 3.14, True)\n",
    "\n",
    "print(len(mix_value_tuple))"
   ]
  },
  {
   "cell_type": "code",
   "execution_count": 125,
   "metadata": {},
   "outputs": [
    {
     "name": "stdout",
     "output_type": "stream",
     "text": [
      "0\n",
      "2\n",
      "4\n"
     ]
    },
    {
     "ename": "IndexError",
     "evalue": "tuple index out of range",
     "output_type": "error",
     "traceback": [
      "\u001b[1;31m---------------------------------------------------------------------------\u001b[0m",
      "\u001b[1;31mIndexError\u001b[0m                                Traceback (most recent call last)",
      "\u001b[1;32m<ipython-input-125-a22fdf8ca5f4>\u001b[0m in \u001b[0;36m<module>\u001b[1;34m\u001b[0m\n\u001b[0;32m      4\u001b[0m \u001b[0mprint\u001b[0m\u001b[1;33m(\u001b[0m\u001b[0meven_no\u001b[0m\u001b[1;33m[\u001b[0m\u001b[1;36m1\u001b[0m\u001b[1;33m]\u001b[0m\u001b[1;33m)\u001b[0m\u001b[1;33m\u001b[0m\u001b[1;33m\u001b[0m\u001b[0m\n\u001b[0;32m      5\u001b[0m \u001b[0mprint\u001b[0m\u001b[1;33m(\u001b[0m\u001b[0meven_no\u001b[0m\u001b[1;33m[\u001b[0m\u001b[1;36m2\u001b[0m\u001b[1;33m]\u001b[0m\u001b[1;33m)\u001b[0m\u001b[1;33m\u001b[0m\u001b[1;33m\u001b[0m\u001b[0m\n\u001b[1;32m----> 6\u001b[1;33m \u001b[0mprint\u001b[0m\u001b[1;33m(\u001b[0m\u001b[0meven_no\u001b[0m\u001b[1;33m[\u001b[0m\u001b[1;36m3\u001b[0m\u001b[1;33m]\u001b[0m\u001b[1;33m)\u001b[0m\u001b[1;33m\u001b[0m\u001b[1;33m\u001b[0m\u001b[0m\n\u001b[0m",
      "\u001b[1;31mIndexError\u001b[0m: tuple index out of range"
     ]
    }
   ],
   "source": [
    "# tuple da indeksleme\n",
    "even_no = (0, 2, 4)\n",
    "print(even_no[0])  # 0.indeksi yazar \n",
    "print(even_no[1])  # 1.indeksi yazar   \n",
    "print(even_no[2])  # 2.indeksi yazar  \n",
    "print(even_no[3])  # 3.indeksi olmadigi icin yazamaz hata verir. out of range yani boyutu astiniz! "
   ]
  },
  {
   "cell_type": "code",
   "execution_count": 127,
   "metadata": {},
   "outputs": [
    {
     "name": "stdout",
     "output_type": "stream",
     "text": [
      "['Athens', 'Cairo', 'Moskow', 'Dublin']\n"
     ]
    },
    {
     "ename": "TypeError",
     "evalue": "'tuple' object does not support item assignment",
     "output_type": "error",
     "traceback": [
      "\u001b[1;31m---------------------------------------------------------------------------\u001b[0m",
      "\u001b[1;31mTypeError\u001b[0m                                 Traceback (most recent call last)",
      "\u001b[1;32m<ipython-input-127-beaaae9a9467>\u001b[0m in \u001b[0;36m<module>\u001b[1;34m\u001b[0m\n\u001b[0;32m      7\u001b[0m \u001b[1;33m\u001b[0m\u001b[0m\n\u001b[0;32m      8\u001b[0m \u001b[0mcity_tuple\u001b[0m \u001b[1;33m=\u001b[0m \u001b[0mtuple\u001b[0m\u001b[1;33m(\u001b[0m\u001b[0mcity_list\u001b[0m\u001b[1;33m)\u001b[0m\u001b[1;33m\u001b[0m\u001b[1;33m\u001b[0m\u001b[0m\n\u001b[1;32m----> 9\u001b[1;33m \u001b[0mcity_tuple\u001b[0m\u001b[1;33m[\u001b[0m\u001b[1;36m0\u001b[0m\u001b[1;33m]\u001b[0m \u001b[1;33m=\u001b[0m \u001b[1;34m'New York'\u001b[0m  \u001b[1;31m# you can't assign a value\u001b[0m\u001b[1;33m\u001b[0m\u001b[1;33m\u001b[0m\u001b[0m\n\u001b[0m",
      "\u001b[1;31mTypeError\u001b[0m: 'tuple' object does not support item assignment"
     ]
    }
   ],
   "source": [
    "# tuple immutable oldugu icin, list deki gibi assignment yani atama yapamiyoruz\n",
    "city_list = ['Tokyo', 'Istanbul', 'Moskow', 'Dublin']  # bu bir list ve asagidaki gibi atama yapabiliriz\n",
    "\n",
    "city_list[0] = 'Athens'  # 'Tokyo' yerine 'Athens' atandi\n",
    "city_list[1] = 'Cairo'  # 'Istanbul' yerine 'Cairo' atandi\n",
    "print(city_list)\n",
    "\n",
    "city_tuple = tuple(city_list)  # list'i tuple'a cevirdik\n",
    "city_tuple[0] = 'New York'  # Burada tuple'in 0.indeksine 'New York' un atamasi yapilamaz. hata verir!"
   ]
  },
  {
   "cell_type": "code",
   "execution_count": 128,
   "metadata": {},
   "outputs": [
    {
     "ename": "AttributeError",
     "evalue": "'tuple' object has no attribute 'append'",
     "output_type": "error",
     "traceback": [
      "\u001b[1;31m---------------------------------------------------------------------------\u001b[0m",
      "\u001b[1;31mAttributeError\u001b[0m                            Traceback (most recent call last)",
      "\u001b[1;32m<ipython-input-128-0ca9ec98ccea>\u001b[0m in \u001b[0;36m<module>\u001b[1;34m\u001b[0m\n\u001b[0;32m      1\u001b[0m \u001b[0mmix_value\u001b[0m \u001b[1;33m=\u001b[0m \u001b[1;33m(\u001b[0m\u001b[1;36m10\u001b[0m\u001b[1;33m,\u001b[0m \u001b[1;32mFalse\u001b[0m\u001b[1;33m,\u001b[0m \u001b[1;34m'fruit'\u001b[0m\u001b[1;33m,\u001b[0m \u001b[1;36m1.618\u001b[0m\u001b[1;33m)\u001b[0m\u001b[1;33m\u001b[0m\u001b[1;33m\u001b[0m\u001b[0m\n\u001b[1;32m----> 2\u001b[1;33m \u001b[0mmix_value\u001b[0m\u001b[1;33m.\u001b[0m\u001b[0mappend\u001b[0m\u001b[1;33m(\u001b[0m\u001b[1;33m[\u001b[0m\u001b[1;34m'vegetable'\u001b[0m\u001b[1;33m,\u001b[0m \u001b[1;36m2\u001b[0m\u001b[1;33m+\u001b[0m\u001b[1;36m3j\u001b[0m\u001b[1;33m]\u001b[0m\u001b[1;33m)\u001b[0m\u001b[1;33m\u001b[0m\u001b[1;33m\u001b[0m\u001b[0m\n\u001b[0m\u001b[0;32m      3\u001b[0m \u001b[1;33m\u001b[0m\u001b[0m\n\u001b[0;32m      4\u001b[0m \u001b[0mprint\u001b[0m\u001b[1;33m(\u001b[0m\u001b[0mlen\u001b[0m\u001b[1;33m(\u001b[0m\u001b[0mmix_value\u001b[0m\u001b[1;33m)\u001b[0m\u001b[1;33m)\u001b[0m\u001b[1;33m\u001b[0m\u001b[1;33m\u001b[0m\u001b[0m\n",
      "\u001b[1;31mAttributeError\u001b[0m: 'tuple' object has no attribute 'append'"
     ]
    }
   ],
   "source": [
    "mix_value = (10, False, 'fruit', 1.618)\n",
    "mix_value.append(['vegetable', 2+3j])  # tuple'a .append ile eleman ekleyemeyiz. Hata verir!\n",
    "\n",
    "print(len(mix_value))"
   ]
  },
  {
   "cell_type": "code",
   "execution_count": null,
   "metadata": {},
   "outputs": [],
   "source": []
  }
 ],
 "metadata": {
  "kernelspec": {
   "display_name": "Python 3",
   "language": "python",
   "name": "python3"
  },
  "language_info": {
   "codemirror_mode": {
    "name": "ipython",
    "version": 3
   },
   "file_extension": ".py",
   "mimetype": "text/x-python",
   "name": "python",
   "nbconvert_exporter": "python",
   "pygments_lexer": "ipython3",
   "version": "3.7.6"
  }
 },
 "nbformat": 4,
 "nbformat_minor": 4
}
